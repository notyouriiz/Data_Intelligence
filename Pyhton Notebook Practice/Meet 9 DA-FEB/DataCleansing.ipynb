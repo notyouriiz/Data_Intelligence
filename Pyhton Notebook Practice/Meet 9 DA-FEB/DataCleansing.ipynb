{
 "cells": [
  {
   "cell_type": "markdown",
   "metadata": {},
   "source": [
    "## Import Module"
   ]
  },
  {
   "cell_type": "code",
   "execution_count": 2,
   "metadata": {},
   "outputs": [],
   "source": [
    "# Data Analysis\n",
    "import pandas as pd\n",
    "import numpy as np\n",
    "\n",
    "# Data Visualization\n",
    "import seaborn as sn"
   ]
  },
  {
   "cell_type": "markdown",
   "metadata": {},
   "source": [
    "## Case 1"
   ]
  },
  {
   "cell_type": "markdown",
   "metadata": {},
   "source": [
    "### Informasi Dataset ride_sharing_new.csv"
   ]
  },
  {
   "cell_type": "code",
   "execution_count": 3,
   "metadata": {},
   "outputs": [
    {
     "data": {
      "text/html": [
       "<div>\n",
       "<style scoped>\n",
       "    .dataframe tbody tr th:only-of-type {\n",
       "        vertical-align: middle;\n",
       "    }\n",
       "\n",
       "    .dataframe tbody tr th {\n",
       "        vertical-align: top;\n",
       "    }\n",
       "\n",
       "    .dataframe thead th {\n",
       "        text-align: right;\n",
       "    }\n",
       "</style>\n",
       "<table border=\"1\" class=\"dataframe\">\n",
       "  <thead>\n",
       "    <tr style=\"text-align: right;\">\n",
       "      <th></th>\n",
       "      <th>duration</th>\n",
       "      <th>station_A_id</th>\n",
       "      <th>station_A_name</th>\n",
       "      <th>station_B_id</th>\n",
       "      <th>station_B_name</th>\n",
       "      <th>bike_id</th>\n",
       "      <th>user_type</th>\n",
       "      <th>user_birth_year</th>\n",
       "      <th>user_gender</th>\n",
       "    </tr>\n",
       "  </thead>\n",
       "  <tbody>\n",
       "    <tr>\n",
       "      <th>0</th>\n",
       "      <td>12 minutes</td>\n",
       "      <td>81</td>\n",
       "      <td>Berry St at 4th St</td>\n",
       "      <td>323</td>\n",
       "      <td>Broadway at Kearny</td>\n",
       "      <td>5480.0</td>\n",
       "      <td>2</td>\n",
       "      <td>1959</td>\n",
       "      <td>Male</td>\n",
       "    </tr>\n",
       "    <tr>\n",
       "      <th>1</th>\n",
       "      <td>24 minutes</td>\n",
       "      <td>3</td>\n",
       "      <td>Powell St BART Station (Market St at 4th St)</td>\n",
       "      <td>118</td>\n",
       "      <td>Eureka Valley Recreation Center</td>\n",
       "      <td>5193.0</td>\n",
       "      <td>2</td>\n",
       "      <td>1965</td>\n",
       "      <td>Male</td>\n",
       "    </tr>\n",
       "    <tr>\n",
       "      <th>2</th>\n",
       "      <td>8 minutes</td>\n",
       "      <td>67</td>\n",
       "      <td>San Francisco Caltrain Station 2  (Townsend St...</td>\n",
       "      <td>23</td>\n",
       "      <td>The Embarcadero at Steuart St</td>\n",
       "      <td>3652.0</td>\n",
       "      <td>3</td>\n",
       "      <td>1993</td>\n",
       "      <td>Male</td>\n",
       "    </tr>\n",
       "    <tr>\n",
       "      <th>3</th>\n",
       "      <td>4 minutes</td>\n",
       "      <td>16</td>\n",
       "      <td>Steuart St at Market St</td>\n",
       "      <td>28</td>\n",
       "      <td>The Embarcadero at Bryant St</td>\n",
       "      <td>1883.0</td>\n",
       "      <td>1</td>\n",
       "      <td>1979</td>\n",
       "      <td>Male</td>\n",
       "    </tr>\n",
       "    <tr>\n",
       "      <th>4</th>\n",
       "      <td>11 minutes</td>\n",
       "      <td>22</td>\n",
       "      <td>Howard St at Beale St</td>\n",
       "      <td>350</td>\n",
       "      <td>8th St at Brannan St</td>\n",
       "      <td>4626.0</td>\n",
       "      <td>2</td>\n",
       "      <td>1994</td>\n",
       "      <td>Male</td>\n",
       "    </tr>\n",
       "    <tr>\n",
       "      <th>5</th>\n",
       "      <td>10 minutes</td>\n",
       "      <td>22</td>\n",
       "      <td>Howard St at Beale St</td>\n",
       "      <td>6</td>\n",
       "      <td>The Embarcadero at Sansome St</td>\n",
       "      <td>3279.0</td>\n",
       "      <td>2</td>\n",
       "      <td>1979</td>\n",
       "      <td>Male</td>\n",
       "    </tr>\n",
       "    <tr>\n",
       "      <th>6</th>\n",
       "      <td>16 minutes</td>\n",
       "      <td>67</td>\n",
       "      <td>San Francisco Caltrain Station 2  (Townsend St...</td>\n",
       "      <td>107</td>\n",
       "      <td>17th St at Dolores St</td>\n",
       "      <td>1035.0</td>\n",
       "      <td>2</td>\n",
       "      <td>1981</td>\n",
       "      <td>Male</td>\n",
       "    </tr>\n",
       "    <tr>\n",
       "      <th>7</th>\n",
       "      <td>9 minutes</td>\n",
       "      <td>30</td>\n",
       "      <td>San Francisco Caltrain (Townsend St at 4th St)</td>\n",
       "      <td>97</td>\n",
       "      <td>14th St at Mission St</td>\n",
       "      <td>5286.0</td>\n",
       "      <td>2</td>\n",
       "      <td>1991</td>\n",
       "      <td>Male</td>\n",
       "    </tr>\n",
       "    <tr>\n",
       "      <th>8</th>\n",
       "      <td>21 minutes</td>\n",
       "      <td>81</td>\n",
       "      <td>Berry St at 4th St</td>\n",
       "      <td>16</td>\n",
       "      <td>Steuart St at Market St</td>\n",
       "      <td>NaN</td>\n",
       "      <td>1</td>\n",
       "      <td>1982</td>\n",
       "      <td>Female</td>\n",
       "    </tr>\n",
       "    <tr>\n",
       "      <th>9</th>\n",
       "      <td>5 minutes</td>\n",
       "      <td>30</td>\n",
       "      <td>San Francisco Caltrain (Townsend St at 4th St)</td>\n",
       "      <td>62</td>\n",
       "      <td>Victoria Manalo Draves Park</td>\n",
       "      <td>333.0</td>\n",
       "      <td>1</td>\n",
       "      <td>1994</td>\n",
       "      <td>Male</td>\n",
       "    </tr>\n",
       "  </tbody>\n",
       "</table>\n",
       "</div>"
      ],
      "text/plain": [
       "     duration  station_A_id  \\\n",
       "0  12 minutes            81   \n",
       "1  24 minutes             3   \n",
       "2   8 minutes            67   \n",
       "3   4 minutes            16   \n",
       "4  11 minutes            22   \n",
       "5  10 minutes            22   \n",
       "6  16 minutes            67   \n",
       "7   9 minutes            30   \n",
       "8  21 minutes            81   \n",
       "9   5 minutes            30   \n",
       "\n",
       "                                      station_A_name  station_B_id  \\\n",
       "0                                 Berry St at 4th St           323   \n",
       "1       Powell St BART Station (Market St at 4th St)           118   \n",
       "2  San Francisco Caltrain Station 2  (Townsend St...            23   \n",
       "3                            Steuart St at Market St            28   \n",
       "4                              Howard St at Beale St           350   \n",
       "5                              Howard St at Beale St             6   \n",
       "6  San Francisco Caltrain Station 2  (Townsend St...           107   \n",
       "7     San Francisco Caltrain (Townsend St at 4th St)            97   \n",
       "8                                 Berry St at 4th St            16   \n",
       "9     San Francisco Caltrain (Townsend St at 4th St)            62   \n",
       "\n",
       "                    station_B_name  bike_id  user_type  user_birth_year  \\\n",
       "0               Broadway at Kearny   5480.0          2             1959   \n",
       "1  Eureka Valley Recreation Center   5193.0          2             1965   \n",
       "2    The Embarcadero at Steuart St   3652.0          3             1993   \n",
       "3     The Embarcadero at Bryant St   1883.0          1             1979   \n",
       "4             8th St at Brannan St   4626.0          2             1994   \n",
       "5    The Embarcadero at Sansome St   3279.0          2             1979   \n",
       "6            17th St at Dolores St   1035.0          2             1981   \n",
       "7            14th St at Mission St   5286.0          2             1991   \n",
       "8          Steuart St at Market St      NaN          1             1982   \n",
       "9      Victoria Manalo Draves Park    333.0          1             1994   \n",
       "\n",
       "  user_gender  \n",
       "0        Male  \n",
       "1        Male  \n",
       "2        Male  \n",
       "3        Male  \n",
       "4        Male  \n",
       "5        Male  \n",
       "6        Male  \n",
       "7        Male  \n",
       "8      Female  \n",
       "9        Male  "
      ]
     },
     "execution_count": 3,
     "metadata": {},
     "output_type": "execute_result"
    }
   ],
   "source": [
    "ride_sharing_new = pd.read_csv('ride_sharing_new.csv')\n",
    "ride_sharing_new.head(10)"
   ]
  },
  {
   "cell_type": "code",
   "execution_count": 4,
   "metadata": {},
   "outputs": [
    {
     "name": "stdout",
     "output_type": "stream",
     "text": [
      "<class 'pandas.core.frame.DataFrame'>\n",
      "RangeIndex: 25760 entries, 0 to 25759\n",
      "Data columns (total 9 columns):\n",
      " #   Column           Non-Null Count  Dtype  \n",
      "---  ------           --------------  -----  \n",
      " 0   duration         25760 non-null  object \n",
      " 1   station_A_id     25760 non-null  int64  \n",
      " 2   station_A_name   25760 non-null  object \n",
      " 3   station_B_id     25760 non-null  int64  \n",
      " 4   station_B_name   25760 non-null  object \n",
      " 5   bike_id          25755 non-null  float64\n",
      " 6   user_type        25760 non-null  int64  \n",
      " 7   user_birth_year  25760 non-null  int64  \n",
      " 8   user_gender      25760 non-null  object \n",
      "dtypes: float64(1), int64(4), object(4)\n",
      "memory usage: 1.8+ MB\n"
     ]
    }
   ],
   "source": [
    "ride_sharing_new.info()"
   ]
  },
  {
   "cell_type": "code",
   "execution_count": 5,
   "metadata": {},
   "outputs": [
    {
     "data": {
      "text/plain": [
       "duration           0\n",
       "station_A_id       0\n",
       "station_A_name     0\n",
       "station_B_id       0\n",
       "station_B_name     0\n",
       "bike_id            5\n",
       "user_type          0\n",
       "user_birth_year    0\n",
       "user_gender        0\n",
       "dtype: int64"
      ]
     },
     "execution_count": 5,
     "metadata": {},
     "output_type": "execute_result"
    }
   ],
   "source": [
    "# looking for missing value\n",
    "missing_values = pd.isnull(ride_sharing_new).sum()\n",
    "missing_values"
   ]
  },
  {
   "cell_type": "markdown",
   "metadata": {},
   "source": [
    "Sebelum dilakukan cleaning data, sebaiknya kita mengetahui permasalahan apa yang terjadi pada kolom tersebut sehingga kita dapat menentukan penyelesaian apa yang sesuai dengan permasalahan missing value. <br>\n",
    "Beberapa cara yang dapat dilakukan dalam mengatasi missing value, diantaranya :\n",
    "1. Menghilangkan atau menghapus data yang hilang. Cara ini banyak digunakan apabila data yang kosong terlalu banyak lebih dari 60%.\n",
    "2. Melakukan inputting value dengan data yang menyerupai seperti minimum value, maximum value, mean, median, atau modus. Penggunaan mean banyak digunakan apabila data tersebut adalah data kontinue, bukan kategorik data. Sedangkan modus digunakan ketika kolom yang kosong berisi informasi berupa data kategorik.\n",
    "3. Melakukan manual inputting value dengan data yang sebenarnya (cara ini membutuhkan high effort untuk mencari data yang hilang tersebut)\n",
    "4. Menentukan custom value berdasarkan asumsi bisnis yang terjadi.\n"
   ]
  },
  {
   "cell_type": "code",
   "execution_count": 6,
   "metadata": {},
   "outputs": [
    {
     "data": {
      "text/plain": [
       "duration           0.000000\n",
       "station_A_id       0.000000\n",
       "station_A_name     0.000000\n",
       "station_B_id       0.000000\n",
       "station_B_name     0.000000\n",
       "bike_id            0.000194\n",
       "user_type          0.000000\n",
       "user_birth_year    0.000000\n",
       "user_gender        0.000000\n",
       "dtype: float64"
      ]
     },
     "execution_count": 6,
     "metadata": {},
     "output_type": "execute_result"
    }
   ],
   "source": [
    "# Rasio Missing Values\n",
    "ratio_missing_value = missing_values.div(len(ride_sharing_new))\n",
    "ratio_missing_value"
   ]
  },
  {
   "cell_type": "markdown",
   "metadata": {},
   "source": [
    "<b>Tidak ada Drop Data</b>, karena Rasio missing values masih di bawah 60%, <br>\n",
    "<u>Missing value terdapat pada bike_id</u>\n",
    "<br>\n",
    "<br>\n",
    "<p style=\"color:green\"> Keseluruhan data termasuk bersih."
   ]
  },
  {
   "cell_type": "markdown",
   "metadata": {},
   "source": [
    "### Summary Dataset"
   ]
  },
  {
   "cell_type": "code",
   "execution_count": 7,
   "metadata": {},
   "outputs": [
    {
     "name": "stderr",
     "output_type": "stream",
     "text": [
      "C:\\Users\\lenovo\\AppData\\Local\\Temp\\ipykernel_22344\\605183901.py:8: FutureWarning: DataFrame.applymap has been deprecated. Use DataFrame.map instead.\n",
      "  formatted_desc = ride_sharing_new_desc.applymap(format_floats)\n"
     ]
    },
    {
     "data": {
      "text/html": [
       "<style type=\"text/css\">\n",
       "</style>\n",
       "<table id=\"T_65c2a\">\n",
       "  <thead>\n",
       "    <tr>\n",
       "      <th class=\"blank level0\" >&nbsp;</th>\n",
       "      <th id=\"T_65c2a_level0_col0\" class=\"col_heading level0 col0\" >station_A_id</th>\n",
       "      <th id=\"T_65c2a_level0_col1\" class=\"col_heading level0 col1\" >station_B_id</th>\n",
       "      <th id=\"T_65c2a_level0_col2\" class=\"col_heading level0 col2\" >bike_id</th>\n",
       "      <th id=\"T_65c2a_level0_col3\" class=\"col_heading level0 col3\" >user_type</th>\n",
       "      <th id=\"T_65c2a_level0_col4\" class=\"col_heading level0 col4\" >user_birth_year</th>\n",
       "    </tr>\n",
       "  </thead>\n",
       "  <tbody>\n",
       "    <tr>\n",
       "      <th id=\"T_65c2a_level0_row0\" class=\"row_heading level0 row0\" >count</th>\n",
       "      <td id=\"T_65c2a_row0_col0\" class=\"data row0 col0\" >25760</td>\n",
       "      <td id=\"T_65c2a_row0_col1\" class=\"data row0 col1\" >25760</td>\n",
       "      <td id=\"T_65c2a_row0_col2\" class=\"data row0 col2\" >25755</td>\n",
       "      <td id=\"T_65c2a_row0_col3\" class=\"data row0 col3\" >25760</td>\n",
       "      <td id=\"T_65c2a_row0_col4\" class=\"data row0 col4\" >25760</td>\n",
       "    </tr>\n",
       "    <tr>\n",
       "      <th id=\"T_65c2a_level0_row1\" class=\"row_heading level0 row1\" >mean</th>\n",
       "      <td id=\"T_65c2a_row1_col0\" class=\"data row1 col0\" >31.023602</td>\n",
       "      <td id=\"T_65c2a_row1_col1\" class=\"data row1 col1\" >89.558579</td>\n",
       "      <td id=\"T_65c2a_row1_col2\" class=\"data row1 col2\" >4108.053388</td>\n",
       "      <td id=\"T_65c2a_row1_col3\" class=\"data row1 col3\" >2.008385</td>\n",
       "      <td id=\"T_65c2a_row1_col4\" class=\"data row1 col4\" >1983.054969</td>\n",
       "    </tr>\n",
       "    <tr>\n",
       "      <th id=\"T_65c2a_level0_row2\" class=\"row_heading level0 row2\" >std</th>\n",
       "      <td id=\"T_65c2a_row2_col0\" class=\"data row2 col0\" >26.409263</td>\n",
       "      <td id=\"T_65c2a_row2_col1\" class=\"data row2 col1\" >105.144103</td>\n",
       "      <td id=\"T_65c2a_row2_col2\" class=\"data row2 col2\" >1576.015656</td>\n",
       "      <td id=\"T_65c2a_row2_col3\" class=\"data row2 col3\" >0.704541</td>\n",
       "      <td id=\"T_65c2a_row2_col4\" class=\"data row2 col4\" >10.010992</td>\n",
       "    </tr>\n",
       "    <tr>\n",
       "      <th id=\"T_65c2a_level0_row3\" class=\"row_heading level0 row3\" >min</th>\n",
       "      <td id=\"T_65c2a_row3_col0\" class=\"data row3 col0\" >3</td>\n",
       "      <td id=\"T_65c2a_row3_col1\" class=\"data row3 col1\" >3</td>\n",
       "      <td id=\"T_65c2a_row3_col2\" class=\"data row3 col2\" >11</td>\n",
       "      <td id=\"T_65c2a_row3_col3\" class=\"data row3 col3\" >1</td>\n",
       "      <td id=\"T_65c2a_row3_col4\" class=\"data row3 col4\" >1901</td>\n",
       "    </tr>\n",
       "    <tr>\n",
       "      <th id=\"T_65c2a_level0_row4\" class=\"row_heading level0 row4\" >25%</th>\n",
       "      <td id=\"T_65c2a_row4_col0\" class=\"data row4 col0\" >15</td>\n",
       "      <td id=\"T_65c2a_row4_col1\" class=\"data row4 col1\" >21</td>\n",
       "      <td id=\"T_65c2a_row4_col2\" class=\"data row4 col2\" >3108</td>\n",
       "      <td id=\"T_65c2a_row4_col3\" class=\"data row4 col3\" >2</td>\n",
       "      <td id=\"T_65c2a_row4_col4\" class=\"data row4 col4\" >1978</td>\n",
       "    </tr>\n",
       "    <tr>\n",
       "      <th id=\"T_65c2a_level0_row5\" class=\"row_heading level0 row5\" >50%</th>\n",
       "      <td id=\"T_65c2a_row5_col0\" class=\"data row5 col0\" >21</td>\n",
       "      <td id=\"T_65c2a_row5_col1\" class=\"data row5 col1\" >58</td>\n",
       "      <td id=\"T_65c2a_row5_col2\" class=\"data row5 col2\" >4821</td>\n",
       "      <td id=\"T_65c2a_row5_col3\" class=\"data row5 col3\" >2</td>\n",
       "      <td id=\"T_65c2a_row5_col4\" class=\"data row5 col4\" >1985</td>\n",
       "    </tr>\n",
       "    <tr>\n",
       "      <th id=\"T_65c2a_level0_row6\" class=\"row_heading level0 row6\" >75%</th>\n",
       "      <td id=\"T_65c2a_row6_col0\" class=\"data row6 col0\" >67</td>\n",
       "      <td id=\"T_65c2a_row6_col1\" class=\"data row6 col1\" >93</td>\n",
       "      <td id=\"T_65c2a_row6_col2\" class=\"data row6 col2\" >5258</td>\n",
       "      <td id=\"T_65c2a_row6_col3\" class=\"data row6 col3\" >3</td>\n",
       "      <td id=\"T_65c2a_row6_col4\" class=\"data row6 col4\" >1990</td>\n",
       "    </tr>\n",
       "    <tr>\n",
       "      <th id=\"T_65c2a_level0_row7\" class=\"row_heading level0 row7\" >max</th>\n",
       "      <td id=\"T_65c2a_row7_col0\" class=\"data row7 col0\" >81</td>\n",
       "      <td id=\"T_65c2a_row7_col1\" class=\"data row7 col1\" >383</td>\n",
       "      <td id=\"T_65c2a_row7_col2\" class=\"data row7 col2\" >6638</td>\n",
       "      <td id=\"T_65c2a_row7_col3\" class=\"data row7 col3\" >3</td>\n",
       "      <td id=\"T_65c2a_row7_col4\" class=\"data row7 col4\" >2001</td>\n",
       "    </tr>\n",
       "  </tbody>\n",
       "</table>\n"
      ],
      "text/plain": [
       "<pandas.io.formats.style.Styler at 0x21f56677d40>"
      ]
     },
     "execution_count": 7,
     "metadata": {},
     "output_type": "execute_result"
    }
   ],
   "source": [
    "ride_sharing_new_desc = ride_sharing_new.describe()\n",
    "\n",
    "# Function to format the floating-point numbers\n",
    "def format_floats(x):\n",
    "    return f'{x:.6f}'.rstrip('0').rstrip('.') if isinstance(x, (float, np.float64)) else x\n",
    "\n",
    "# Apply the formatting function to the DataFrame\n",
    "formatted_desc = ride_sharing_new_desc.applymap(format_floats)\n",
    "\n",
    "# Apply the background gradient\n",
    "styled_desc = formatted_desc.style.background_gradient(cmap='mako')\n",
    "\n",
    "# Display the styled DataFrame\n",
    "styled_desc"
   ]
  },
  {
   "cell_type": "markdown",
   "metadata": {},
   "source": [
    "## case 2"
   ]
  },
  {
   "cell_type": "markdown",
   "metadata": {},
   "source": [
    "### Apakah terdapat missing value"
   ]
  },
  {
   "cell_type": "code",
   "execution_count": 8,
   "metadata": {},
   "outputs": [
    {
     "name": "stdout",
     "output_type": "stream",
     "text": [
      "<class 'pandas.core.frame.DataFrame'>\n",
      "RangeIndex: 25760 entries, 0 to 25759\n",
      "Data columns (total 9 columns):\n",
      " #   Column           Non-Null Count  Dtype  \n",
      "---  ------           --------------  -----  \n",
      " 0   duration         25760 non-null  object \n",
      " 1   station_A_id     25760 non-null  int64  \n",
      " 2   station_A_name   25760 non-null  object \n",
      " 3   station_B_id     25760 non-null  int64  \n",
      " 4   station_B_name   25760 non-null  object \n",
      " 5   bike_id          25755 non-null  float64\n",
      " 6   user_type        25760 non-null  int64  \n",
      " 7   user_birth_year  25760 non-null  int64  \n",
      " 8   user_gender      25760 non-null  object \n",
      "dtypes: float64(1), int64(4), object(4)\n",
      "memory usage: 1.8+ MB\n"
     ]
    }
   ],
   "source": [
    "ride_sharing_new.info()"
   ]
  },
  {
   "cell_type": "code",
   "execution_count": 9,
   "metadata": {},
   "outputs": [
    {
     "data": {
      "text/plain": [
       "duration           0\n",
       "station_A_id       0\n",
       "station_A_name     0\n",
       "station_B_id       0\n",
       "station_B_name     0\n",
       "bike_id            5\n",
       "user_type          0\n",
       "user_birth_year    0\n",
       "user_gender        0\n",
       "dtype: int64"
      ]
     },
     "execution_count": 9,
     "metadata": {},
     "output_type": "execute_result"
    }
   ],
   "source": [
    "missing_values"
   ]
  },
  {
   "cell_type": "code",
   "execution_count": 10,
   "metadata": {},
   "outputs": [
    {
     "data": {
      "text/plain": [
       "duration           0.000000\n",
       "station_A_id       0.000000\n",
       "station_A_name     0.000000\n",
       "station_B_id       0.000000\n",
       "station_B_name     0.000000\n",
       "bike_id            0.000194\n",
       "user_type          0.000000\n",
       "user_birth_year    0.000000\n",
       "user_gender        0.000000\n",
       "dtype: float64"
      ]
     },
     "execution_count": 10,
     "metadata": {},
     "output_type": "execute_result"
    }
   ],
   "source": [
    "ratio_missing_value"
   ]
  },
  {
   "cell_type": "markdown",
   "metadata": {},
   "source": [
    "Ya, terdapat missing value pada field <u>bike_id</u>"
   ]
  },
  {
   "cell_type": "markdown",
   "metadata": {},
   "source": [
    "### Handling missing value tersebut"
   ]
  },
  {
   "cell_type": "markdown",
   "metadata": {},
   "source": [
    "#### Handling Missing Value"
   ]
  },
  {
   "cell_type": "code",
   "execution_count": 11,
   "metadata": {},
   "outputs": [
    {
     "data": {
      "text/plain": [
       "count    25755.000000\n",
       "mean      4108.053388\n",
       "std       1576.015656\n",
       "min         11.000000\n",
       "25%       3108.000000\n",
       "50%       4821.000000\n",
       "75%       5258.000000\n",
       "max       6638.000000\n",
       "Name: bike_id, dtype: float64"
      ]
     },
     "execution_count": 11,
     "metadata": {},
     "output_type": "execute_result"
    }
   ],
   "source": [
    "ride_sharing_new['bike_id'].describe() #describe bike_id karena memiliki dType float64"
   ]
  },
  {
   "cell_type": "markdown",
   "metadata": {},
   "source": [
    "tidak terdapat Nan atau missing value pada kolom bike_id<br>\n",
    "mean = 4108<br>\n",
    "median = 4821\n",
    "<br>\n",
    "perbedaan yang tidak terlalu jauh ini dapat diatasi dengan metode missing value yaitu input nilai missing value dengan mean"
   ]
  },
  {
   "cell_type": "code",
   "execution_count": 12,
   "metadata": {},
   "outputs": [
    {
     "data": {
      "text/plain": [
       "duration           0\n",
       "station_A_id       0\n",
       "station_A_name     0\n",
       "station_B_id       0\n",
       "station_B_name     0\n",
       "bike_id            0\n",
       "user_type          0\n",
       "user_birth_year    0\n",
       "user_gender        0\n",
       "dtype: int64"
      ]
     },
     "execution_count": 12,
     "metadata": {},
     "output_type": "execute_result"
    }
   ],
   "source": [
    "ride_sharing_new['bike_id'].fillna(int(ride_sharing_new['bike_id'].mean()), inplace=True) # mengubah Nan dengan nilai mean\n",
    "\n",
    "pd.isnull(ride_sharing_new).sum() #cek apakah masih terdapat missing value"
   ]
  },
  {
   "cell_type": "markdown",
   "metadata": {},
   "source": [
    "## Case 3"
   ]
  },
  {
   "cell_type": "markdown",
   "metadata": {},
   "source": [
    "### Data Duplicate"
   ]
  },
  {
   "cell_type": "code",
   "execution_count": 13,
   "metadata": {},
   "outputs": [
    {
     "data": {
      "text/html": [
       "<div>\n",
       "<style scoped>\n",
       "    .dataframe tbody tr th:only-of-type {\n",
       "        vertical-align: middle;\n",
       "    }\n",
       "\n",
       "    .dataframe tbody tr th {\n",
       "        vertical-align: top;\n",
       "    }\n",
       "\n",
       "    .dataframe thead th {\n",
       "        text-align: right;\n",
       "    }\n",
       "</style>\n",
       "<table border=\"1\" class=\"dataframe\">\n",
       "  <thead>\n",
       "    <tr style=\"text-align: right;\">\n",
       "      <th></th>\n",
       "      <th>duration</th>\n",
       "      <th>station_A_id</th>\n",
       "      <th>station_A_name</th>\n",
       "      <th>station_B_id</th>\n",
       "      <th>station_B_name</th>\n",
       "      <th>bike_id</th>\n",
       "      <th>user_type</th>\n",
       "      <th>user_birth_year</th>\n",
       "      <th>user_gender</th>\n",
       "    </tr>\n",
       "  </thead>\n",
       "  <tbody>\n",
       "    <tr>\n",
       "      <th>3780</th>\n",
       "      <td>1 minutes</td>\n",
       "      <td>16</td>\n",
       "      <td>Steuart St at Market St</td>\n",
       "      <td>16</td>\n",
       "      <td>Steuart St at Market St</td>\n",
       "      <td>443.0</td>\n",
       "      <td>2</td>\n",
       "      <td>1962</td>\n",
       "      <td>Male</td>\n",
       "    </tr>\n",
       "    <tr>\n",
       "      <th>21077</th>\n",
       "      <td>1 minutes</td>\n",
       "      <td>22</td>\n",
       "      <td>Howard St at Beale St</td>\n",
       "      <td>25</td>\n",
       "      <td>Howard St at 2nd St</td>\n",
       "      <td>5136.0</td>\n",
       "      <td>2</td>\n",
       "      <td>1974</td>\n",
       "      <td>Male</td>\n",
       "    </tr>\n",
       "    <tr>\n",
       "      <th>9407</th>\n",
       "      <td>1 minutes</td>\n",
       "      <td>67</td>\n",
       "      <td>San Francisco Caltrain Station 2  (Townsend St...</td>\n",
       "      <td>67</td>\n",
       "      <td>San Francisco Caltrain Station 2  (Townsend St...</td>\n",
       "      <td>1814.0</td>\n",
       "      <td>2</td>\n",
       "      <td>1987</td>\n",
       "      <td>Female</td>\n",
       "    </tr>\n",
       "    <tr>\n",
       "      <th>16632</th>\n",
       "      <td>1 minutes</td>\n",
       "      <td>21</td>\n",
       "      <td>Montgomery St BART Station (Market St at 2nd St)</td>\n",
       "      <td>21</td>\n",
       "      <td>Montgomery St BART Station (Market St at 2nd St)</td>\n",
       "      <td>4996.0</td>\n",
       "      <td>2</td>\n",
       "      <td>1994</td>\n",
       "      <td>Female</td>\n",
       "    </tr>\n",
       "    <tr>\n",
       "      <th>6659</th>\n",
       "      <td>1 minutes</td>\n",
       "      <td>30</td>\n",
       "      <td>San Francisco Caltrain (Townsend St at 4th St)</td>\n",
       "      <td>80</td>\n",
       "      <td>Townsend St at 5th St</td>\n",
       "      <td>5015.0</td>\n",
       "      <td>3</td>\n",
       "      <td>1975</td>\n",
       "      <td>Male</td>\n",
       "    </tr>\n",
       "    <tr>\n",
       "      <th>...</th>\n",
       "      <td>...</td>\n",
       "      <td>...</td>\n",
       "      <td>...</td>\n",
       "      <td>...</td>\n",
       "      <td>...</td>\n",
       "      <td>...</td>\n",
       "      <td>...</td>\n",
       "      <td>...</td>\n",
       "      <td>...</td>\n",
       "    </tr>\n",
       "    <tr>\n",
       "      <th>17008</th>\n",
       "      <td>93 minutes</td>\n",
       "      <td>15</td>\n",
       "      <td>San Francisco Ferry Building (Harry Bridges Pl...</td>\n",
       "      <td>6</td>\n",
       "      <td>The Embarcadero at Sansome St</td>\n",
       "      <td>5216.0</td>\n",
       "      <td>1</td>\n",
       "      <td>1966</td>\n",
       "      <td>Female</td>\n",
       "    </tr>\n",
       "    <tr>\n",
       "      <th>14841</th>\n",
       "      <td>93 minutes</td>\n",
       "      <td>30</td>\n",
       "      <td>San Francisco Caltrain (Townsend St at 4th St)</td>\n",
       "      <td>62</td>\n",
       "      <td>Victoria Manalo Draves Park</td>\n",
       "      <td>5438.0</td>\n",
       "      <td>3</td>\n",
       "      <td>1973</td>\n",
       "      <td>Female</td>\n",
       "    </tr>\n",
       "    <tr>\n",
       "      <th>25079</th>\n",
       "      <td>93 minutes</td>\n",
       "      <td>3</td>\n",
       "      <td>Powell St BART Station (Market St at 4th St)</td>\n",
       "      <td>5</td>\n",
       "      <td>Powell St BART Station (Market St at 5th St)</td>\n",
       "      <td>4722.0</td>\n",
       "      <td>2</td>\n",
       "      <td>1994</td>\n",
       "      <td>Male</td>\n",
       "    </tr>\n",
       "    <tr>\n",
       "      <th>25078</th>\n",
       "      <td>99 minutes</td>\n",
       "      <td>3</td>\n",
       "      <td>Powell St BART Station (Market St at 4th St)</td>\n",
       "      <td>5</td>\n",
       "      <td>Powell St BART Station (Market St at 5th St)</td>\n",
       "      <td>5051.0</td>\n",
       "      <td>2</td>\n",
       "      <td>1994</td>\n",
       "      <td>Male</td>\n",
       "    </tr>\n",
       "    <tr>\n",
       "      <th>11420</th>\n",
       "      <td>99 minutes</td>\n",
       "      <td>15</td>\n",
       "      <td>San Francisco Ferry Building (Harry Bridges Pl...</td>\n",
       "      <td>371</td>\n",
       "      <td>Lombard St at Columbus Ave</td>\n",
       "      <td>5120.0</td>\n",
       "      <td>1</td>\n",
       "      <td>1969</td>\n",
       "      <td>Male</td>\n",
       "    </tr>\n",
       "  </tbody>\n",
       "</table>\n",
       "<p>25698 rows × 9 columns</p>\n",
       "</div>"
      ],
      "text/plain": [
       "         duration  station_A_id  \\\n",
       "3780    1 minutes            16   \n",
       "21077   1 minutes            22   \n",
       "9407    1 minutes            67   \n",
       "16632   1 minutes            21   \n",
       "6659    1 minutes            30   \n",
       "...           ...           ...   \n",
       "17008  93 minutes            15   \n",
       "14841  93 minutes            30   \n",
       "25079  93 minutes             3   \n",
       "25078  99 minutes             3   \n",
       "11420  99 minutes            15   \n",
       "\n",
       "                                          station_A_name  station_B_id  \\\n",
       "3780                             Steuart St at Market St            16   \n",
       "21077                              Howard St at Beale St            25   \n",
       "9407   San Francisco Caltrain Station 2  (Townsend St...            67   \n",
       "16632   Montgomery St BART Station (Market St at 2nd St)            21   \n",
       "6659      San Francisco Caltrain (Townsend St at 4th St)            80   \n",
       "...                                                  ...           ...   \n",
       "17008  San Francisco Ferry Building (Harry Bridges Pl...             6   \n",
       "14841     San Francisco Caltrain (Townsend St at 4th St)            62   \n",
       "25079       Powell St BART Station (Market St at 4th St)             5   \n",
       "25078       Powell St BART Station (Market St at 4th St)             5   \n",
       "11420  San Francisco Ferry Building (Harry Bridges Pl...           371   \n",
       "\n",
       "                                          station_B_name  bike_id  user_type  \\\n",
       "3780                             Steuart St at Market St    443.0          2   \n",
       "21077                                Howard St at 2nd St   5136.0          2   \n",
       "9407   San Francisco Caltrain Station 2  (Townsend St...   1814.0          2   \n",
       "16632   Montgomery St BART Station (Market St at 2nd St)   4996.0          2   \n",
       "6659                               Townsend St at 5th St   5015.0          3   \n",
       "...                                                  ...      ...        ...   \n",
       "17008                      The Embarcadero at Sansome St   5216.0          1   \n",
       "14841                        Victoria Manalo Draves Park   5438.0          3   \n",
       "25079       Powell St BART Station (Market St at 5th St)   4722.0          2   \n",
       "25078       Powell St BART Station (Market St at 5th St)   5051.0          2   \n",
       "11420                         Lombard St at Columbus Ave   5120.0          1   \n",
       "\n",
       "       user_birth_year user_gender  \n",
       "3780              1962        Male  \n",
       "21077             1974        Male  \n",
       "9407              1987      Female  \n",
       "16632             1994      Female  \n",
       "6659              1975        Male  \n",
       "...                ...         ...  \n",
       "17008             1966      Female  \n",
       "14841             1973      Female  \n",
       "25079             1994        Male  \n",
       "25078             1994        Male  \n",
       "11420             1969        Male  \n",
       "\n",
       "[25698 rows x 9 columns]"
      ]
     },
     "execution_count": 13,
     "metadata": {},
     "output_type": "execute_result"
    }
   ],
   "source": [
    "# Mengidentifikasi apakah terdapat duplicate value pada tabel dengan acuan kolom PassengerId\n",
    "ride_sharing_new[ride_sharing_new[\"duration\"].duplicated(keep=False)].sort_values(\"duration\")   "
   ]
  },
  {
   "cell_type": "markdown",
   "metadata": {},
   "source": [
    "### Hapus data duplicate"
   ]
  },
  {
   "cell_type": "code",
   "execution_count": 14,
   "metadata": {},
   "outputs": [],
   "source": [
    "ride_sharing_new = ride_sharing_new.drop_duplicates(keep='first').reset_index(drop=True)"
   ]
  },
  {
   "cell_type": "code",
   "execution_count": 15,
   "metadata": {},
   "outputs": [
    {
     "data": {
      "text/html": [
       "<div>\n",
       "<style scoped>\n",
       "    .dataframe tbody tr th:only-of-type {\n",
       "        vertical-align: middle;\n",
       "    }\n",
       "\n",
       "    .dataframe tbody tr th {\n",
       "        vertical-align: top;\n",
       "    }\n",
       "\n",
       "    .dataframe thead th {\n",
       "        text-align: right;\n",
       "    }\n",
       "</style>\n",
       "<table border=\"1\" class=\"dataframe\">\n",
       "  <thead>\n",
       "    <tr style=\"text-align: right;\">\n",
       "      <th></th>\n",
       "      <th>duration</th>\n",
       "      <th>station_A_id</th>\n",
       "      <th>station_A_name</th>\n",
       "      <th>station_B_id</th>\n",
       "      <th>station_B_name</th>\n",
       "      <th>bike_id</th>\n",
       "      <th>user_type</th>\n",
       "      <th>user_birth_year</th>\n",
       "      <th>user_gender</th>\n",
       "    </tr>\n",
       "  </thead>\n",
       "  <tbody>\n",
       "    <tr>\n",
       "      <th>0</th>\n",
       "      <td>12 minutes</td>\n",
       "      <td>81</td>\n",
       "      <td>Berry St at 4th St</td>\n",
       "      <td>323</td>\n",
       "      <td>Broadway at Kearny</td>\n",
       "      <td>5480.0</td>\n",
       "      <td>2</td>\n",
       "      <td>1959</td>\n",
       "      <td>Male</td>\n",
       "    </tr>\n",
       "    <tr>\n",
       "      <th>1</th>\n",
       "      <td>24 minutes</td>\n",
       "      <td>3</td>\n",
       "      <td>Powell St BART Station (Market St at 4th St)</td>\n",
       "      <td>118</td>\n",
       "      <td>Eureka Valley Recreation Center</td>\n",
       "      <td>5193.0</td>\n",
       "      <td>2</td>\n",
       "      <td>1965</td>\n",
       "      <td>Male</td>\n",
       "    </tr>\n",
       "    <tr>\n",
       "      <th>2</th>\n",
       "      <td>8 minutes</td>\n",
       "      <td>67</td>\n",
       "      <td>San Francisco Caltrain Station 2  (Townsend St...</td>\n",
       "      <td>23</td>\n",
       "      <td>The Embarcadero at Steuart St</td>\n",
       "      <td>3652.0</td>\n",
       "      <td>3</td>\n",
       "      <td>1993</td>\n",
       "      <td>Male</td>\n",
       "    </tr>\n",
       "    <tr>\n",
       "      <th>3</th>\n",
       "      <td>4 minutes</td>\n",
       "      <td>16</td>\n",
       "      <td>Steuart St at Market St</td>\n",
       "      <td>28</td>\n",
       "      <td>The Embarcadero at Bryant St</td>\n",
       "      <td>1883.0</td>\n",
       "      <td>1</td>\n",
       "      <td>1979</td>\n",
       "      <td>Male</td>\n",
       "    </tr>\n",
       "    <tr>\n",
       "      <th>4</th>\n",
       "      <td>11 minutes</td>\n",
       "      <td>22</td>\n",
       "      <td>Howard St at Beale St</td>\n",
       "      <td>350</td>\n",
       "      <td>8th St at Brannan St</td>\n",
       "      <td>4626.0</td>\n",
       "      <td>2</td>\n",
       "      <td>1994</td>\n",
       "      <td>Male</td>\n",
       "    </tr>\n",
       "    <tr>\n",
       "      <th>...</th>\n",
       "      <td>...</td>\n",
       "      <td>...</td>\n",
       "      <td>...</td>\n",
       "      <td>...</td>\n",
       "      <td>...</td>\n",
       "      <td>...</td>\n",
       "      <td>...</td>\n",
       "      <td>...</td>\n",
       "      <td>...</td>\n",
       "    </tr>\n",
       "    <tr>\n",
       "      <th>25751</th>\n",
       "      <td>11 minutes</td>\n",
       "      <td>15</td>\n",
       "      <td>San Francisco Ferry Building (Harry Bridges Pl...</td>\n",
       "      <td>34</td>\n",
       "      <td>Father Alfred E Boeddeker Park</td>\n",
       "      <td>5063.0</td>\n",
       "      <td>1</td>\n",
       "      <td>2000</td>\n",
       "      <td>Male</td>\n",
       "    </tr>\n",
       "    <tr>\n",
       "      <th>25752</th>\n",
       "      <td>10 minutes</td>\n",
       "      <td>15</td>\n",
       "      <td>San Francisco Ferry Building (Harry Bridges Pl...</td>\n",
       "      <td>34</td>\n",
       "      <td>Father Alfred E Boeddeker Park</td>\n",
       "      <td>5411.0</td>\n",
       "      <td>2</td>\n",
       "      <td>1998</td>\n",
       "      <td>Male</td>\n",
       "    </tr>\n",
       "    <tr>\n",
       "      <th>25753</th>\n",
       "      <td>14 minutes</td>\n",
       "      <td>15</td>\n",
       "      <td>San Francisco Ferry Building (Harry Bridges Pl...</td>\n",
       "      <td>42</td>\n",
       "      <td>San Francisco City Hall (Polk St at Grove St)</td>\n",
       "      <td>5157.0</td>\n",
       "      <td>2</td>\n",
       "      <td>1995</td>\n",
       "      <td>Male</td>\n",
       "    </tr>\n",
       "    <tr>\n",
       "      <th>25754</th>\n",
       "      <td>14 minutes</td>\n",
       "      <td>15</td>\n",
       "      <td>San Francisco Ferry Building (Harry Bridges Pl...</td>\n",
       "      <td>42</td>\n",
       "      <td>San Francisco City Hall (Polk St at Grove St)</td>\n",
       "      <td>4438.0</td>\n",
       "      <td>2</td>\n",
       "      <td>1995</td>\n",
       "      <td>Male</td>\n",
       "    </tr>\n",
       "    <tr>\n",
       "      <th>25755</th>\n",
       "      <td>29 minutes</td>\n",
       "      <td>16</td>\n",
       "      <td>Steuart St at Market St</td>\n",
       "      <td>115</td>\n",
       "      <td>Jackson Playground</td>\n",
       "      <td>1705.0</td>\n",
       "      <td>3</td>\n",
       "      <td>1990</td>\n",
       "      <td>Male</td>\n",
       "    </tr>\n",
       "  </tbody>\n",
       "</table>\n",
       "<p>25694 rows × 9 columns</p>\n",
       "</div>"
      ],
      "text/plain": [
       "         duration  station_A_id  \\\n",
       "0      12 minutes            81   \n",
       "1      24 minutes             3   \n",
       "2       8 minutes            67   \n",
       "3       4 minutes            16   \n",
       "4      11 minutes            22   \n",
       "...           ...           ...   \n",
       "25751  11 minutes            15   \n",
       "25752  10 minutes            15   \n",
       "25753  14 minutes            15   \n",
       "25754  14 minutes            15   \n",
       "25755  29 minutes            16   \n",
       "\n",
       "                                          station_A_name  station_B_id  \\\n",
       "0                                     Berry St at 4th St           323   \n",
       "1           Powell St BART Station (Market St at 4th St)           118   \n",
       "2      San Francisco Caltrain Station 2  (Townsend St...            23   \n",
       "3                                Steuart St at Market St            28   \n",
       "4                                  Howard St at Beale St           350   \n",
       "...                                                  ...           ...   \n",
       "25751  San Francisco Ferry Building (Harry Bridges Pl...            34   \n",
       "25752  San Francisco Ferry Building (Harry Bridges Pl...            34   \n",
       "25753  San Francisco Ferry Building (Harry Bridges Pl...            42   \n",
       "25754  San Francisco Ferry Building (Harry Bridges Pl...            42   \n",
       "25755                            Steuart St at Market St           115   \n",
       "\n",
       "                                      station_B_name  bike_id  user_type  \\\n",
       "0                                 Broadway at Kearny   5480.0          2   \n",
       "1                    Eureka Valley Recreation Center   5193.0          2   \n",
       "2                      The Embarcadero at Steuart St   3652.0          3   \n",
       "3                       The Embarcadero at Bryant St   1883.0          1   \n",
       "4                               8th St at Brannan St   4626.0          2   \n",
       "...                                              ...      ...        ...   \n",
       "25751                 Father Alfred E Boeddeker Park   5063.0          1   \n",
       "25752                 Father Alfred E Boeddeker Park   5411.0          2   \n",
       "25753  San Francisco City Hall (Polk St at Grove St)   5157.0          2   \n",
       "25754  San Francisco City Hall (Polk St at Grove St)   4438.0          2   \n",
       "25755                             Jackson Playground   1705.0          3   \n",
       "\n",
       "       user_birth_year user_gender  \n",
       "0                 1959        Male  \n",
       "1                 1965        Male  \n",
       "2                 1993        Male  \n",
       "3                 1979        Male  \n",
       "4                 1994        Male  \n",
       "...                ...         ...  \n",
       "25751             2000        Male  \n",
       "25752             1998        Male  \n",
       "25753             1995        Male  \n",
       "25754             1995        Male  \n",
       "25755             1990        Male  \n",
       "\n",
       "[25694 rows x 9 columns]"
      ]
     },
     "execution_count": 15,
     "metadata": {},
     "output_type": "execute_result"
    }
   ],
   "source": [
    "# Cek kembali apakah masih ada data duplicate \n",
    "ride_sharing_new[ride_sharing_new.duration.duplicated(keep=False)]"
   ]
  },
  {
   "cell_type": "markdown",
   "metadata": {},
   "source": [
    "## Case 4"
   ]
  },
  {
   "cell_type": "markdown",
   "metadata": {},
   "source": [
    "### pada kolom duration terdapat satuan waktu yang dapat menghalangi dalam analisis kolom durasi pengendara sepeda. Oleh karena itu dibutuhkan cleaning data satuan waktu"
   ]
  },
  {
   "cell_type": "code",
   "execution_count": 16,
   "metadata": {},
   "outputs": [
    {
     "name": "stdout",
     "output_type": "stream",
     "text": [
      "      duration  station_A_id  \\\n",
      "0           12            81   \n",
      "1           24             3   \n",
      "2            8            67   \n",
      "3            4            16   \n",
      "4           11            22   \n",
      "...        ...           ...   \n",
      "25751       11            15   \n",
      "25752       10            15   \n",
      "25753       14            15   \n",
      "25754       14            15   \n",
      "25755       29            16   \n",
      "\n",
      "                                          station_A_name  station_B_id  \\\n",
      "0                                     Berry St at 4th St           323   \n",
      "1           Powell St BART Station (Market St at 4th St)           118   \n",
      "2      San Francisco Caltrain Station 2  (Townsend St...            23   \n",
      "3                                Steuart St at Market St            28   \n",
      "4                                  Howard St at Beale St           350   \n",
      "...                                                  ...           ...   \n",
      "25751  San Francisco Ferry Building (Harry Bridges Pl...            34   \n",
      "25752  San Francisco Ferry Building (Harry Bridges Pl...            34   \n",
      "25753  San Francisco Ferry Building (Harry Bridges Pl...            42   \n",
      "25754  San Francisco Ferry Building (Harry Bridges Pl...            42   \n",
      "25755                            Steuart St at Market St           115   \n",
      "\n",
      "                                      station_B_name  bike_id  user_type  \\\n",
      "0                                 Broadway at Kearny   5480.0          2   \n",
      "1                    Eureka Valley Recreation Center   5193.0          2   \n",
      "2                      The Embarcadero at Steuart St   3652.0          3   \n",
      "3                       The Embarcadero at Bryant St   1883.0          1   \n",
      "4                               8th St at Brannan St   4626.0          2   \n",
      "...                                              ...      ...        ...   \n",
      "25751                 Father Alfred E Boeddeker Park   5063.0          1   \n",
      "25752                 Father Alfred E Boeddeker Park   5411.0          2   \n",
      "25753  San Francisco City Hall (Polk St at Grove St)   5157.0          2   \n",
      "25754  San Francisco City Hall (Polk St at Grove St)   4438.0          2   \n",
      "25755                             Jackson Playground   1705.0          3   \n",
      "\n",
      "       user_birth_year user_gender  \n",
      "0                 1959        Male  \n",
      "1                 1965        Male  \n",
      "2                 1993        Male  \n",
      "3                 1979        Male  \n",
      "4                 1994        Male  \n",
      "...                ...         ...  \n",
      "25751             2000        Male  \n",
      "25752             1998        Male  \n",
      "25753             1995        Male  \n",
      "25754             1995        Male  \n",
      "25755             1990        Male  \n",
      "\n",
      "[25756 rows x 9 columns]\n"
     ]
    }
   ],
   "source": [
    "# Remove \"minutes\" and convert to numeric\n",
    "ride_sharing_new['duration'] = ride_sharing_new['duration'].str.replace(' minutes', '')\n",
    "\n",
    "print(ride_sharing_new)\n"
   ]
  },
  {
   "cell_type": "markdown",
   "metadata": {},
   "source": [
    "## Case 5"
   ]
  },
  {
   "cell_type": "markdown",
   "metadata": {},
   "source": [
    "### ubah data duration menjadi dType INT"
   ]
  },
  {
   "cell_type": "code",
   "execution_count": 17,
   "metadata": {},
   "outputs": [
    {
     "data": {
      "text/plain": [
       "0        12\n",
       "1        24\n",
       "2         8\n",
       "3         4\n",
       "4        11\n",
       "         ..\n",
       "25751    11\n",
       "25752    10\n",
       "25753    14\n",
       "25754    14\n",
       "25755    29\n",
       "Name: duration, Length: 25756, dtype: int32"
      ]
     },
     "execution_count": 17,
     "metadata": {},
     "output_type": "execute_result"
    }
   ],
   "source": [
    "ride_sharing_new['duration'] = ride_sharing_new['duration'].astype(int) # astype untuk mengubah dType menjadi integer\n",
    "ride_sharing_new['duration']"
   ]
  },
  {
   "cell_type": "markdown",
   "metadata": {},
   "source": [
    "## Case 6"
   ]
  },
  {
   "cell_type": "markdown",
   "metadata": {},
   "source": [
    "### Jumlah pengendara sepeda yang melewati station_A dan station_B"
   ]
  },
  {
   "cell_type": "code",
   "execution_count": 18,
   "metadata": {},
   "outputs": [
    {
     "data": {
      "text/html": [
       "<div>\n",
       "<style scoped>\n",
       "    .dataframe tbody tr th:only-of-type {\n",
       "        vertical-align: middle;\n",
       "    }\n",
       "\n",
       "    .dataframe tbody tr th {\n",
       "        vertical-align: top;\n",
       "    }\n",
       "\n",
       "    .dataframe thead th {\n",
       "        text-align: right;\n",
       "    }\n",
       "</style>\n",
       "<table border=\"1\" class=\"dataframe\">\n",
       "  <thead>\n",
       "    <tr style=\"text-align: right;\">\n",
       "      <th></th>\n",
       "      <th>station_A_name</th>\n",
       "      <th>0</th>\n",
       "    </tr>\n",
       "  </thead>\n",
       "  <tbody>\n",
       "    <tr>\n",
       "      <th>0</th>\n",
       "      <td>Berry St at 4th St</td>\n",
       "      <td>3029</td>\n",
       "    </tr>\n",
       "    <tr>\n",
       "      <th>1</th>\n",
       "      <td>Howard St at Beale St</td>\n",
       "      <td>2560</td>\n",
       "    </tr>\n",
       "    <tr>\n",
       "      <th>2</th>\n",
       "      <td>Montgomery St BART Station (Market St at 2nd St)</td>\n",
       "      <td>2997</td>\n",
       "    </tr>\n",
       "    <tr>\n",
       "      <th>3</th>\n",
       "      <td>Powell St BART Station (Market St at 4th St)</td>\n",
       "      <td>2899</td>\n",
       "    </tr>\n",
       "    <tr>\n",
       "      <th>4</th>\n",
       "      <td>Powell St BART Station (Market St at 5th St)</td>\n",
       "      <td>2386</td>\n",
       "    </tr>\n",
       "    <tr>\n",
       "      <th>5</th>\n",
       "      <td>San Francisco Caltrain (Townsend St at 4th St)</td>\n",
       "      <td>2932</td>\n",
       "    </tr>\n",
       "    <tr>\n",
       "      <th>6</th>\n",
       "      <td>San Francisco Caltrain Station 2  (Townsend St...</td>\n",
       "      <td>3635</td>\n",
       "    </tr>\n",
       "    <tr>\n",
       "      <th>7</th>\n",
       "      <td>San Francisco Ferry Building (Harry Bridges Pl...</td>\n",
       "      <td>2812</td>\n",
       "    </tr>\n",
       "    <tr>\n",
       "      <th>8</th>\n",
       "      <td>Steuart St at Market St</td>\n",
       "      <td>2506</td>\n",
       "    </tr>\n",
       "  </tbody>\n",
       "</table>\n",
       "</div>"
      ],
      "text/plain": [
       "                                      station_A_name     0\n",
       "0                                 Berry St at 4th St  3029\n",
       "1                              Howard St at Beale St  2560\n",
       "2   Montgomery St BART Station (Market St at 2nd St)  2997\n",
       "3       Powell St BART Station (Market St at 4th St)  2899\n",
       "4       Powell St BART Station (Market St at 5th St)  2386\n",
       "5     San Francisco Caltrain (Townsend St at 4th St)  2932\n",
       "6  San Francisco Caltrain Station 2  (Townsend St...  3635\n",
       "7  San Francisco Ferry Building (Harry Bridges Pl...  2812\n",
       "8                            Steuart St at Market St  2506"
      ]
     },
     "execution_count": 18,
     "metadata": {},
     "output_type": "execute_result"
    }
   ],
   "source": [
    "pesepeda_station_A = ride_sharing_new.groupby(['station_A_name']).size().reset_index()\n",
    "pesepeda_station_A"
   ]
  },
  {
   "cell_type": "code",
   "execution_count": 19,
   "metadata": {},
   "outputs": [
    {
     "data": {
      "text/html": [
       "<div>\n",
       "<style scoped>\n",
       "    .dataframe tbody tr th:only-of-type {\n",
       "        vertical-align: middle;\n",
       "    }\n",
       "\n",
       "    .dataframe tbody tr th {\n",
       "        vertical-align: top;\n",
       "    }\n",
       "\n",
       "    .dataframe thead th {\n",
       "        text-align: right;\n",
       "    }\n",
       "</style>\n",
       "<table border=\"1\" class=\"dataframe\">\n",
       "  <thead>\n",
       "    <tr style=\"text-align: right;\">\n",
       "      <th></th>\n",
       "      <th>station_B_name</th>\n",
       "      <th>0</th>\n",
       "    </tr>\n",
       "  </thead>\n",
       "  <tbody>\n",
       "    <tr>\n",
       "      <th>0</th>\n",
       "      <td>11th St at Bryant St</td>\n",
       "      <td>183</td>\n",
       "    </tr>\n",
       "    <tr>\n",
       "      <th>1</th>\n",
       "      <td>11th St at Natoma St</td>\n",
       "      <td>184</td>\n",
       "    </tr>\n",
       "    <tr>\n",
       "      <th>2</th>\n",
       "      <td>14th St at Mission St</td>\n",
       "      <td>108</td>\n",
       "    </tr>\n",
       "    <tr>\n",
       "      <th>3</th>\n",
       "      <td>15th St at Potrero Ave</td>\n",
       "      <td>82</td>\n",
       "    </tr>\n",
       "    <tr>\n",
       "      <th>4</th>\n",
       "      <td>16th St Mission BART</td>\n",
       "      <td>9</td>\n",
       "    </tr>\n",
       "    <tr>\n",
       "      <th>...</th>\n",
       "      <td>...</td>\n",
       "      <td>...</td>\n",
       "    </tr>\n",
       "    <tr>\n",
       "      <th>147</th>\n",
       "      <td>Webster St at Grove St</td>\n",
       "      <td>105</td>\n",
       "    </tr>\n",
       "    <tr>\n",
       "      <th>148</th>\n",
       "      <td>Webster St at O'Farrell St</td>\n",
       "      <td>69</td>\n",
       "    </tr>\n",
       "    <tr>\n",
       "      <th>149</th>\n",
       "      <td>Williams Ave at 3rd St</td>\n",
       "      <td>12</td>\n",
       "    </tr>\n",
       "    <tr>\n",
       "      <th>150</th>\n",
       "      <td>Williams Ave at Apollo St</td>\n",
       "      <td>3</td>\n",
       "    </tr>\n",
       "    <tr>\n",
       "      <th>151</th>\n",
       "      <td>Yerba Buena Center for the Arts (Howard St at ...</td>\n",
       "      <td>172</td>\n",
       "    </tr>\n",
       "  </tbody>\n",
       "</table>\n",
       "<p>152 rows × 2 columns</p>\n",
       "</div>"
      ],
      "text/plain": [
       "                                        station_B_name    0\n",
       "0                                 11th St at Bryant St  183\n",
       "1                                 11th St at Natoma St  184\n",
       "2                                14th St at Mission St  108\n",
       "3                               15th St at Potrero Ave   82\n",
       "4                                 16th St Mission BART    9\n",
       "..                                                 ...  ...\n",
       "147                             Webster St at Grove St  105\n",
       "148                         Webster St at O'Farrell St   69\n",
       "149                             Williams Ave at 3rd St   12\n",
       "150                          Williams Ave at Apollo St    3\n",
       "151  Yerba Buena Center for the Arts (Howard St at ...  172\n",
       "\n",
       "[152 rows x 2 columns]"
      ]
     },
     "execution_count": 19,
     "metadata": {},
     "output_type": "execute_result"
    }
   ],
   "source": [
    "pesepeda_station_B = ride_sharing_new.groupby(['station_B_name']).size().reset_index()\n",
    "pesepeda_station_B"
   ]
  },
  {
   "cell_type": "markdown",
   "metadata": {},
   "source": [
    "### Jumlah pengendara berdasarkan user type dan gender"
   ]
  },
  {
   "cell_type": "markdown",
   "metadata": {},
   "source": [
    "#### Jumlah pengendara berdasarkan user gender"
   ]
  },
  {
   "cell_type": "code",
   "execution_count": 20,
   "metadata": {},
   "outputs": [
    {
     "name": "stdout",
     "output_type": "stream",
     "text": [
      "Jumlah pengendara sepeda laki-laki: 19379\n"
     ]
    }
   ],
   "source": [
    "# Filter the DataFrame Male \n",
    "pesepeda_gender_M = ride_sharing_new[ride_sharing_new['user_gender'] == 'Male']\n",
    "\n",
    "# hitung pesepeda Male\n",
    "pesepeda_male_count = pesepeda_gender_M.shape[0]\n",
    "\n",
    "# Display\n",
    "print(f\"Jumlah pengendara sepeda laki-laki: {pesepeda_male_count}\")"
   ]
  },
  {
   "cell_type": "code",
   "execution_count": 22,
   "metadata": {},
   "outputs": [
    {
     "name": "stdout",
     "output_type": "stream",
     "text": [
      "Jumlah pengendara sepeda Wanita: 6026\n"
     ]
    }
   ],
   "source": [
    "# Filter the DataFrame Male \n",
    "pesepeda_gender_F = ride_sharing_new[ride_sharing_new['user_gender'] == 'Female']\n",
    "\n",
    "# hitung pesepeda Male\n",
    "pesepeda_female_count = pesepeda_gender_F.shape[0]\n",
    "\n",
    "# Display\n",
    "print(f\"Jumlah pengendara sepeda Wanita: {pesepeda_female_count}\")"
   ]
  },
  {
   "cell_type": "markdown",
   "metadata": {},
   "source": [
    "#### Jumlah pengendara sepeda berdasar user type"
   ]
  },
  {
   "cell_type": "code",
   "execution_count": 23,
   "metadata": {},
   "outputs": [
    {
     "data": {
      "text/html": [
       "<div>\n",
       "<style scoped>\n",
       "    .dataframe tbody tr th:only-of-type {\n",
       "        vertical-align: middle;\n",
       "    }\n",
       "\n",
       "    .dataframe tbody tr th {\n",
       "        vertical-align: top;\n",
       "    }\n",
       "\n",
       "    .dataframe thead th {\n",
       "        text-align: right;\n",
       "    }\n",
       "</style>\n",
       "<table border=\"1\" class=\"dataframe\">\n",
       "  <thead>\n",
       "    <tr style=\"text-align: right;\">\n",
       "      <th></th>\n",
       "      <th>user_type</th>\n",
       "      <th>0</th>\n",
       "    </tr>\n",
       "  </thead>\n",
       "  <tbody>\n",
       "    <tr>\n",
       "      <th>0</th>\n",
       "      <td>1</td>\n",
       "      <td>6285</td>\n",
       "    </tr>\n",
       "    <tr>\n",
       "      <th>1</th>\n",
       "      <td>2</td>\n",
       "      <td>12970</td>\n",
       "    </tr>\n",
       "    <tr>\n",
       "      <th>2</th>\n",
       "      <td>3</td>\n",
       "      <td>6501</td>\n",
       "    </tr>\n",
       "  </tbody>\n",
       "</table>\n",
       "</div>"
      ],
      "text/plain": [
       "   user_type      0\n",
       "0          1   6285\n",
       "1          2  12970\n",
       "2          3   6501"
      ]
     },
     "execution_count": 23,
     "metadata": {},
     "output_type": "execute_result"
    }
   ],
   "source": [
    "user_type_counts = ride_sharing_new.groupby('user_type').size().reset_index()\n",
    "user_type_counts"
   ]
  },
  {
   "cell_type": "markdown",
   "metadata": {},
   "source": [
    "## Case 7"
   ]
  },
  {
   "cell_type": "markdown",
   "metadata": {},
   "source": [
    "### Berapakah rata-rata durasi pemakaian sepeda"
   ]
  },
  {
   "cell_type": "code",
   "execution_count": 24,
   "metadata": {},
   "outputs": [
    {
     "data": {
      "text/plain": [
       "11.389268519956515"
      ]
     },
     "execution_count": 24,
     "metadata": {},
     "output_type": "execute_result"
    }
   ],
   "source": [
    "rata_rata_pemakaian_sepeda = ride_sharing_new['duration'].mean()\n",
    "rata_rata_pemakaian_sepeda"
   ]
  },
  {
   "cell_type": "markdown",
   "metadata": {},
   "source": [
    "### Rata-rata durasi pemakaian sepeda berdasar rute A dan B"
   ]
  },
  {
   "cell_type": "code",
   "execution_count": 30,
   "metadata": {},
   "outputs": [
    {
     "name": "stdout",
     "output_type": "stream",
     "text": [
      "<class 'pandas.core.series.Series'>\n",
      "RangeIndex: 25756 entries, 0 to 25755\n",
      "Series name: duration\n",
      "Non-Null Count  Dtype\n",
      "--------------  -----\n",
      "25756 non-null  int32\n",
      "dtypes: int32(1)\n",
      "memory usage: 100.7 KB\n"
     ]
    }
   ],
   "source": [
    "ride_sharing_new['duration'].info()"
   ]
  },
  {
   "cell_type": "code",
   "execution_count": 31,
   "metadata": {},
   "outputs": [
    {
     "name": "stdout",
     "output_type": "stream",
     "text": [
      "               station_A_name  \\\n",
      "0          Berry St at 4th St   \n",
      "1          Berry St at 4th St   \n",
      "2          Berry St at 4th St   \n",
      "3          Berry St at 4th St   \n",
      "4          Berry St at 4th St   \n",
      "...                       ...   \n",
      "1230  Steuart St at Market St   \n",
      "1231  Steuart St at Market St   \n",
      "1232  Steuart St at Market St   \n",
      "1233  Steuart St at Market St   \n",
      "1234  Steuart St at Market St   \n",
      "\n",
      "                                         station_B_name  average_duration  \n",
      "0                                  11th St at Bryant St         11.333333  \n",
      "1                                  11th St at Natoma St         10.857143  \n",
      "2                                 14th St at Mission St         16.500000  \n",
      "3                                15th St at Potrero Ave          8.083333  \n",
      "4                                  16th St Mission BART         15.333333  \n",
      "...                                                 ...               ...  \n",
      "1230                         Washington St at Kearny St          7.133333  \n",
      "1231                             Webster St at Grove St         16.625000  \n",
      "1232                         Webster St at O'Farrell St         17.222222  \n",
      "1233                             Williams Ave at 3rd St         31.000000  \n",
      "1234  Yerba Buena Center for the Arts (Howard St at ...          9.875000  \n",
      "\n",
      "[1235 rows x 3 columns]\n"
     ]
    }
   ],
   "source": [
    "# Convert duration to numerical value (remove ' minutes' and convert to int)\n",
    "ride_sharing_new['duration'] = ride_sharing_new['duration']\n",
    "\n",
    "# Group by 'station_A_name' and 'station_B_name' and calculate the average duration\n",
    "average_duration_per_route = ride_sharing_new.groupby(['station_A_name', 'station_B_name'])['duration'].mean().reset_index(name='average_duration')\n",
    "\n",
    "# Display the result\n",
    "print(average_duration_per_route)"
   ]
  },
  {
   "cell_type": "markdown",
   "metadata": {},
   "source": [
    "### Rata-rata Usia dan Modus customer"
   ]
  },
  {
   "cell_type": "code",
   "execution_count": 36,
   "metadata": {},
   "outputs": [
    {
     "data": {
      "text/plain": [
       "1983.055676347259"
      ]
     },
     "execution_count": 36,
     "metadata": {},
     "output_type": "execute_result"
    }
   ],
   "source": [
    "# rata rata usia\n",
    "rerata_usia_cust = ride_sharing_new['user_birth_year'].mean()\n",
    "rerata_usia_cust"
   ]
  },
  {
   "cell_type": "code",
   "execution_count": 37,
   "metadata": {},
   "outputs": [
    {
     "data": {
      "text/plain": [
       "10.009942950728572"
      ]
     },
     "execution_count": 37,
     "metadata": {},
     "output_type": "execute_result"
    }
   ],
   "source": [
    "# rata rata usia\n",
    "modus_kelahiran_cust = ride_sharing_new['user_birth_year'].std()\n",
    "modus_kelahiran_cust"
   ]
  }
 ],
 "metadata": {
  "kernelspec": {
   "display_name": "Python 3",
   "language": "python",
   "name": "python3"
  },
  "language_info": {
   "codemirror_mode": {
    "name": "ipython",
    "version": 3
   },
   "file_extension": ".py",
   "mimetype": "text/x-python",
   "name": "python",
   "nbconvert_exporter": "python",
   "pygments_lexer": "ipython3",
   "version": "3.12.0"
  }
 },
 "nbformat": 4,
 "nbformat_minor": 2
}
