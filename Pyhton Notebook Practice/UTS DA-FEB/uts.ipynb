{
 "cells": [
  {
   "cell_type": "markdown",
   "metadata": {},
   "source": [
    "# SOAL UTS \n",
    "<ol>\n",
    "    <li>print head dari data</li>\n",
    "    <li>jelaskan apa yang dimaksud Dtype, dan sebutkan 3 data dalam phyton</li>\n",
    "    <li>gabungkan kedua kolom dengan inner join berdasarkan nomor id</li>\n",
    "    <li>jumlah baris tersisa setelah digabung</li>\n",
    "    <li>tampilkan kategori salary in usd berdasasrkan kolom pekerjaan data analyst, pakailah visualisasi bar plot</li>\n",
    "    <li>jelaskan histogram tersebut</li>\n",
    "    <li>Ujilah menggunakan uji hipotesis dengan alfa 0.05, untuk mengetahui apakah terdapat perbedaan yang signifikan antara salary_in_usd berdasarkan kelompok jenis Data Analyst dan Data Engineer. Tuliskan dan rincikan semua tahap uji hipotesisnya</li>\n",
    "    <li>Dengan menggunakan metode statistika deskriptif, tunjukkan hubungan antara salary_in_usd dengan remote_ratio pada pekerjaan Data Scientist</li>\n",
    "    <li> Lakukan pengujian hipotesis satu sampel pada jenis pekerjaan Data Analyst, apakah rata-rata salary_in_usd lebih dari 100000. Tuliskan dan rincikan tahap uji hipotesisnya!</li>\n",
    "    <li>Buatlah sebuah kesimpulan atau paragraf singkat terkait analisis yang telah saudara lakukan </li>\n",
    "</ol>"
   ]
  },
  {
   "cell_type": "markdown",
   "metadata": {},
   "source": [
    "# Layout Jawaban\n",
    "<ol>\n",
    "    <li>PRINT_DATA FRAME.HEAD()</li>\n",
    "    <li>Dtype data: , contoh data: 1.int, 2. float, 3. string</li>\n",
    "    <li>pakai function pd,merge(dataset, on='coloumn', how='method')</li>\n",
    "    <li>print merged data, baca baris tersisa</li>\n",
    "    <li>filter data yang telah dibuat pada nomor sebelumnya |  merged_data[merged_data['job_title'] == 'Data Analyst'], lalu buat barplotnya | plt.bar(data_analyst_data['ID'], data_analyst_data['salary_in_usd'], color='skyblue') </li>\n",
    "    <li>beri deskripsi terhadap visualisasi data yang telah dibuat</li>\n",
    "    <li>filter kolom ambil data engineer dan data analyst, pakai function dari stats module, beri logika bila p < t maka reject null, dan else accept</li>\n",
    "    <li>korelasi remote_ratio dengan salary_in_usd dengan scatter dan tes koefisien</li>\n",
    "    <li>uji hipotesis dengan t test</li>\n",
    "    <li>kesimpulan</li>\n",
    "</ol>"
   ]
  },
  {
   "cell_type": "markdown",
   "metadata": {},
   "source": [
    "# IMPORT MODULES\n"
   ]
  },
  {
   "cell_type": "code",
   "execution_count": 1,
   "metadata": {},
   "outputs": [],
   "source": [
    "# Olah Data\n",
    "import pandas as pd\n",
    "import numpy as np\n",
    "import statistics\n",
    "\n",
    "# Visualisasi Data\n",
    "import matplotlib.pyplot as plt\n",
    "import seaborn as sn\n",
    "\n",
    "# Statistics\n",
    "from scipy import stats"
   ]
  },
  {
   "cell_type": "markdown",
   "metadata": {},
   "source": [
    "# IMPORT DATASET"
   ]
  },
  {
   "cell_type": "code",
   "execution_count": 2,
   "metadata": {},
   "outputs": [],
   "source": [
    "tabel1 = pd.read_csv('Tabel1.csv')\n",
    "tabel2 = pd.read_csv('Tabel2.csv')"
   ]
  },
  {
   "cell_type": "code",
   "execution_count": 3,
   "metadata": {},
   "outputs": [
    {
     "name": "stdout",
     "output_type": "stream",
     "text": [
      "        ID  work_year experience_level employment_type  \\\n",
      "0    15640       2022               EX              FT   \n",
      "1    15065       2022               SE              FT   \n",
      "2    13046       2022               EX              FT   \n",
      "3    16852       2022               SE              FT   \n",
      "4    11591       2022               MI              FT   \n",
      "..     ...        ...              ...             ...   \n",
      "285  15631       2021               EN              FT   \n",
      "286  14230       2020               MI              FT   \n",
      "287  19846       2021               EN              FT   \n",
      "288  14341       2021               EN              FT   \n",
      "289  16526       2022               MI              FT   \n",
      "\n",
      "                     job_title  \n",
      "0           Analytics Engineer  \n",
      "1                Data Engineer  \n",
      "2           Analytics Engineer  \n",
      "3                Data Engineer  \n",
      "4                Data Engineer  \n",
      "..                         ...  \n",
      "285    Data Science Consultant  \n",
      "286              Data Engineer  \n",
      "287             Data Scientist  \n",
      "288  Machine Learning Engineer  \n",
      "289              Data Engineer  \n",
      "\n",
      "[290 rows x 5 columns]\n"
     ]
    }
   ],
   "source": [
    "print(tabel1)"
   ]
  },
  {
   "cell_type": "code",
   "execution_count": 4,
   "metadata": {},
   "outputs": [
    {
     "name": "stdout",
     "output_type": "stream",
     "text": [
      "        ID  salary salary_currency  salary_in_usd employee_residence  \\\n",
      "0    19043  215300             USD         215300                 US   \n",
      "1    19783  276000             USD         276000                 US   \n",
      "2    13270   95000             GBP         124333                 GB   \n",
      "3    10519   60000             GBP          76958                 GB   \n",
      "4    13928  216000             USD         216000                 US   \n",
      "..     ...     ...             ...            ...                ...   \n",
      "245  11512  116000             USD         116000                 US   \n",
      "246  18170  150000             CAD         118187                 CA   \n",
      "247  16900   19000             EUR          21669                 IT   \n",
      "248  16842   38400             USD          38400                 VN   \n",
      "249  14035  100000             USD         100000                 US   \n",
      "\n",
      "     remote_ratio company_location company_size  \n",
      "0               0               US            L  \n",
      "1               0               US            L  \n",
      "2               0               GB            M  \n",
      "3             100               GB            S  \n",
      "4             100               US            M  \n",
      "..            ...              ...          ...  \n",
      "245             0               US            M  \n",
      "246           100               CA            S  \n",
      "247            50               IT            S  \n",
      "248           100               US            M  \n",
      "249           100               US            M  \n",
      "\n",
      "[250 rows x 8 columns]\n"
     ]
    }
   ],
   "source": [
    "print(tabel2)"
   ]
  },
  {
   "cell_type": "markdown",
   "metadata": {},
   "source": [
    "### No. 1\n",
    "Print dataset.head()"
   ]
  },
  {
   "cell_type": "code",
   "execution_count": 5,
   "metadata": {},
   "outputs": [
    {
     "data": {
      "text/html": [
       "<style type=\"text/css\">\n",
       "#T_18cfb_row0_col0 {\n",
       "  background-color: #52c7ad;\n",
       "  color: #000000;\n",
       "}\n",
       "#T_18cfb_row0_col1, #T_18cfb_row1_col1, #T_18cfb_row2_col1, #T_18cfb_row3_col1, #T_18cfb_row4_col0, #T_18cfb_row4_col1 {\n",
       "  background-color: #0b0405;\n",
       "  color: #f1f1f1;\n",
       "}\n",
       "#T_18cfb_row1_col0 {\n",
       "  background-color: #38a9ac;\n",
       "  color: #f1f1f1;\n",
       "}\n",
       "#T_18cfb_row2_col0 {\n",
       "  background-color: #403a76;\n",
       "  color: #f1f1f1;\n",
       "}\n",
       "#T_18cfb_row3_col0 {\n",
       "  background-color: #def5e5;\n",
       "  color: #000000;\n",
       "}\n",
       "</style>\n",
       "<table id=\"T_18cfb\">\n",
       "  <thead>\n",
       "    <tr>\n",
       "      <th class=\"blank level0\" >&nbsp;</th>\n",
       "      <th id=\"T_18cfb_level0_col0\" class=\"col_heading level0 col0\" >ID</th>\n",
       "      <th id=\"T_18cfb_level0_col1\" class=\"col_heading level0 col1\" >work_year</th>\n",
       "      <th id=\"T_18cfb_level0_col2\" class=\"col_heading level0 col2\" >experience_level</th>\n",
       "      <th id=\"T_18cfb_level0_col3\" class=\"col_heading level0 col3\" >employment_type</th>\n",
       "      <th id=\"T_18cfb_level0_col4\" class=\"col_heading level0 col4\" >job_title</th>\n",
       "    </tr>\n",
       "  </thead>\n",
       "  <tbody>\n",
       "    <tr>\n",
       "      <th id=\"T_18cfb_level0_row0\" class=\"row_heading level0 row0\" >0</th>\n",
       "      <td id=\"T_18cfb_row0_col0\" class=\"data row0 col0\" >15640</td>\n",
       "      <td id=\"T_18cfb_row0_col1\" class=\"data row0 col1\" >2022</td>\n",
       "      <td id=\"T_18cfb_row0_col2\" class=\"data row0 col2\" >EX</td>\n",
       "      <td id=\"T_18cfb_row0_col3\" class=\"data row0 col3\" >FT</td>\n",
       "      <td id=\"T_18cfb_row0_col4\" class=\"data row0 col4\" >Analytics Engineer</td>\n",
       "    </tr>\n",
       "    <tr>\n",
       "      <th id=\"T_18cfb_level0_row1\" class=\"row_heading level0 row1\" >1</th>\n",
       "      <td id=\"T_18cfb_row1_col0\" class=\"data row1 col0\" >15065</td>\n",
       "      <td id=\"T_18cfb_row1_col1\" class=\"data row1 col1\" >2022</td>\n",
       "      <td id=\"T_18cfb_row1_col2\" class=\"data row1 col2\" >SE</td>\n",
       "      <td id=\"T_18cfb_row1_col3\" class=\"data row1 col3\" >FT</td>\n",
       "      <td id=\"T_18cfb_row1_col4\" class=\"data row1 col4\" >Data Engineer</td>\n",
       "    </tr>\n",
       "    <tr>\n",
       "      <th id=\"T_18cfb_level0_row2\" class=\"row_heading level0 row2\" >2</th>\n",
       "      <td id=\"T_18cfb_row2_col0\" class=\"data row2 col0\" >13046</td>\n",
       "      <td id=\"T_18cfb_row2_col1\" class=\"data row2 col1\" >2022</td>\n",
       "      <td id=\"T_18cfb_row2_col2\" class=\"data row2 col2\" >EX</td>\n",
       "      <td id=\"T_18cfb_row2_col3\" class=\"data row2 col3\" >FT</td>\n",
       "      <td id=\"T_18cfb_row2_col4\" class=\"data row2 col4\" >Analytics Engineer</td>\n",
       "    </tr>\n",
       "    <tr>\n",
       "      <th id=\"T_18cfb_level0_row3\" class=\"row_heading level0 row3\" >3</th>\n",
       "      <td id=\"T_18cfb_row3_col0\" class=\"data row3 col0\" >16852</td>\n",
       "      <td id=\"T_18cfb_row3_col1\" class=\"data row3 col1\" >2022</td>\n",
       "      <td id=\"T_18cfb_row3_col2\" class=\"data row3 col2\" >SE</td>\n",
       "      <td id=\"T_18cfb_row3_col3\" class=\"data row3 col3\" >FT</td>\n",
       "      <td id=\"T_18cfb_row3_col4\" class=\"data row3 col4\" >Data Engineer</td>\n",
       "    </tr>\n",
       "    <tr>\n",
       "      <th id=\"T_18cfb_level0_row4\" class=\"row_heading level0 row4\" >4</th>\n",
       "      <td id=\"T_18cfb_row4_col0\" class=\"data row4 col0\" >11591</td>\n",
       "      <td id=\"T_18cfb_row4_col1\" class=\"data row4 col1\" >2022</td>\n",
       "      <td id=\"T_18cfb_row4_col2\" class=\"data row4 col2\" >MI</td>\n",
       "      <td id=\"T_18cfb_row4_col3\" class=\"data row4 col3\" >FT</td>\n",
       "      <td id=\"T_18cfb_row4_col4\" class=\"data row4 col4\" >Data Engineer</td>\n",
       "    </tr>\n",
       "  </tbody>\n",
       "</table>\n"
      ],
      "text/plain": [
       "<pandas.io.formats.style.Styler at 0x17b5a927a10>"
      ]
     },
     "execution_count": 5,
     "metadata": {},
     "output_type": "execute_result"
    }
   ],
   "source": [
    "tabel1.head().style.background_gradient(cmap='mako')"
   ]
  },
  {
   "cell_type": "code",
   "execution_count": 6,
   "metadata": {},
   "outputs": [
    {
     "data": {
      "text/html": [
       "<style type=\"text/css\">\n",
       "#T_8e25c_row0_col0 {\n",
       "  background-color: #b5e5c4;\n",
       "  color: #000000;\n",
       "}\n",
       "#T_8e25c_row0_col1, #T_8e25c_row4_col1 {\n",
       "  background-color: #42b9ad;\n",
       "  color: #f1f1f1;\n",
       "}\n",
       "#T_8e25c_row0_col3 {\n",
       "  background-color: #3cb2ad;\n",
       "  color: #f1f1f1;\n",
       "}\n",
       "#T_8e25c_row0_col5, #T_8e25c_row1_col5, #T_8e25c_row2_col5, #T_8e25c_row3_col0, #T_8e25c_row3_col1, #T_8e25c_row3_col3 {\n",
       "  background-color: #0b0405;\n",
       "  color: #f1f1f1;\n",
       "}\n",
       "#T_8e25c_row1_col0, #T_8e25c_row1_col1, #T_8e25c_row1_col3, #T_8e25c_row3_col5, #T_8e25c_row4_col5 {\n",
       "  background-color: #def5e5;\n",
       "  color: #000000;\n",
       "}\n",
       "#T_8e25c_row2_col0 {\n",
       "  background-color: #413f80;\n",
       "  color: #f1f1f1;\n",
       "}\n",
       "#T_8e25c_row2_col1 {\n",
       "  background-color: #322243;\n",
       "  color: #f1f1f1;\n",
       "}\n",
       "#T_8e25c_row2_col3 {\n",
       "  background-color: #3d3164;\n",
       "  color: #f1f1f1;\n",
       "}\n",
       "#T_8e25c_row4_col0 {\n",
       "  background-color: #3c5397;\n",
       "  color: #f1f1f1;\n",
       "}\n",
       "#T_8e25c_row4_col3 {\n",
       "  background-color: #3db3ad;\n",
       "  color: #f1f1f1;\n",
       "}\n",
       "</style>\n",
       "<table id=\"T_8e25c\">\n",
       "  <thead>\n",
       "    <tr>\n",
       "      <th class=\"blank level0\" >&nbsp;</th>\n",
       "      <th id=\"T_8e25c_level0_col0\" class=\"col_heading level0 col0\" >ID</th>\n",
       "      <th id=\"T_8e25c_level0_col1\" class=\"col_heading level0 col1\" >salary</th>\n",
       "      <th id=\"T_8e25c_level0_col2\" class=\"col_heading level0 col2\" >salary_currency</th>\n",
       "      <th id=\"T_8e25c_level0_col3\" class=\"col_heading level0 col3\" >salary_in_usd</th>\n",
       "      <th id=\"T_8e25c_level0_col4\" class=\"col_heading level0 col4\" >employee_residence</th>\n",
       "      <th id=\"T_8e25c_level0_col5\" class=\"col_heading level0 col5\" >remote_ratio</th>\n",
       "      <th id=\"T_8e25c_level0_col6\" class=\"col_heading level0 col6\" >company_location</th>\n",
       "      <th id=\"T_8e25c_level0_col7\" class=\"col_heading level0 col7\" >company_size</th>\n",
       "    </tr>\n",
       "  </thead>\n",
       "  <tbody>\n",
       "    <tr>\n",
       "      <th id=\"T_8e25c_level0_row0\" class=\"row_heading level0 row0\" >0</th>\n",
       "      <td id=\"T_8e25c_row0_col0\" class=\"data row0 col0\" >19043</td>\n",
       "      <td id=\"T_8e25c_row0_col1\" class=\"data row0 col1\" >215300</td>\n",
       "      <td id=\"T_8e25c_row0_col2\" class=\"data row0 col2\" >USD</td>\n",
       "      <td id=\"T_8e25c_row0_col3\" class=\"data row0 col3\" >215300</td>\n",
       "      <td id=\"T_8e25c_row0_col4\" class=\"data row0 col4\" >US</td>\n",
       "      <td id=\"T_8e25c_row0_col5\" class=\"data row0 col5\" >0</td>\n",
       "      <td id=\"T_8e25c_row0_col6\" class=\"data row0 col6\" >US</td>\n",
       "      <td id=\"T_8e25c_row0_col7\" class=\"data row0 col7\" >L</td>\n",
       "    </tr>\n",
       "    <tr>\n",
       "      <th id=\"T_8e25c_level0_row1\" class=\"row_heading level0 row1\" >1</th>\n",
       "      <td id=\"T_8e25c_row1_col0\" class=\"data row1 col0\" >19783</td>\n",
       "      <td id=\"T_8e25c_row1_col1\" class=\"data row1 col1\" >276000</td>\n",
       "      <td id=\"T_8e25c_row1_col2\" class=\"data row1 col2\" >USD</td>\n",
       "      <td id=\"T_8e25c_row1_col3\" class=\"data row1 col3\" >276000</td>\n",
       "      <td id=\"T_8e25c_row1_col4\" class=\"data row1 col4\" >US</td>\n",
       "      <td id=\"T_8e25c_row1_col5\" class=\"data row1 col5\" >0</td>\n",
       "      <td id=\"T_8e25c_row1_col6\" class=\"data row1 col6\" >US</td>\n",
       "      <td id=\"T_8e25c_row1_col7\" class=\"data row1 col7\" >L</td>\n",
       "    </tr>\n",
       "    <tr>\n",
       "      <th id=\"T_8e25c_level0_row2\" class=\"row_heading level0 row2\" >2</th>\n",
       "      <td id=\"T_8e25c_row2_col0\" class=\"data row2 col0\" >13270</td>\n",
       "      <td id=\"T_8e25c_row2_col1\" class=\"data row2 col1\" >95000</td>\n",
       "      <td id=\"T_8e25c_row2_col2\" class=\"data row2 col2\" >GBP</td>\n",
       "      <td id=\"T_8e25c_row2_col3\" class=\"data row2 col3\" >124333</td>\n",
       "      <td id=\"T_8e25c_row2_col4\" class=\"data row2 col4\" >GB</td>\n",
       "      <td id=\"T_8e25c_row2_col5\" class=\"data row2 col5\" >0</td>\n",
       "      <td id=\"T_8e25c_row2_col6\" class=\"data row2 col6\" >GB</td>\n",
       "      <td id=\"T_8e25c_row2_col7\" class=\"data row2 col7\" >M</td>\n",
       "    </tr>\n",
       "    <tr>\n",
       "      <th id=\"T_8e25c_level0_row3\" class=\"row_heading level0 row3\" >3</th>\n",
       "      <td id=\"T_8e25c_row3_col0\" class=\"data row3 col0\" >10519</td>\n",
       "      <td id=\"T_8e25c_row3_col1\" class=\"data row3 col1\" >60000</td>\n",
       "      <td id=\"T_8e25c_row3_col2\" class=\"data row3 col2\" >GBP</td>\n",
       "      <td id=\"T_8e25c_row3_col3\" class=\"data row3 col3\" >76958</td>\n",
       "      <td id=\"T_8e25c_row3_col4\" class=\"data row3 col4\" >GB</td>\n",
       "      <td id=\"T_8e25c_row3_col5\" class=\"data row3 col5\" >100</td>\n",
       "      <td id=\"T_8e25c_row3_col6\" class=\"data row3 col6\" >GB</td>\n",
       "      <td id=\"T_8e25c_row3_col7\" class=\"data row3 col7\" >S</td>\n",
       "    </tr>\n",
       "    <tr>\n",
       "      <th id=\"T_8e25c_level0_row4\" class=\"row_heading level0 row4\" >4</th>\n",
       "      <td id=\"T_8e25c_row4_col0\" class=\"data row4 col0\" >13928</td>\n",
       "      <td id=\"T_8e25c_row4_col1\" class=\"data row4 col1\" >216000</td>\n",
       "      <td id=\"T_8e25c_row4_col2\" class=\"data row4 col2\" >USD</td>\n",
       "      <td id=\"T_8e25c_row4_col3\" class=\"data row4 col3\" >216000</td>\n",
       "      <td id=\"T_8e25c_row4_col4\" class=\"data row4 col4\" >US</td>\n",
       "      <td id=\"T_8e25c_row4_col5\" class=\"data row4 col5\" >100</td>\n",
       "      <td id=\"T_8e25c_row4_col6\" class=\"data row4 col6\" >US</td>\n",
       "      <td id=\"T_8e25c_row4_col7\" class=\"data row4 col7\" >M</td>\n",
       "    </tr>\n",
       "  </tbody>\n",
       "</table>\n"
      ],
      "text/plain": [
       "<pandas.io.formats.style.Styler at 0x17b5a423f50>"
      ]
     },
     "execution_count": 6,
     "metadata": {},
     "output_type": "execute_result"
    }
   ],
   "source": [
    "tabel2.head().style.background_gradient(cmap='mako')"
   ]
  },
  {
   "cell_type": "markdown",
   "metadata": {},
   "source": [
    "### No. 2\n",
    "Jelaskan apa itu Dtype dan sebutkan 3 data dalam Phyton\n",
    "<br>\n",
    "D-Type atau tipe data adalah Tipe data adalah suatu media atau memori pada komputer yang digunakan untuk menampung informasi. \n",
    "<br>\n",
    "Contoh 3 Tipe data dalam phyton yaitu:\n",
    "<lo>\n",
    "    <li>Integer</li>\n",
    "    <li>Float</li>\n",
    "    <li>String</li>\n",
    "</lo>"
   ]
  },
  {
   "cell_type": "markdown",
   "metadata": {},
   "source": [
    "### No. 3\n",
    "\n",
    "Merger kedua data dengan ID sebagai primary key dan gunakan methode <b>INNER JOIN"
   ]
  },
  {
   "cell_type": "code",
   "execution_count": 7,
   "metadata": {},
   "outputs": [
    {
     "data": {
      "text/html": [
       "<style type=\"text/css\">\n",
       "#T_689eb_row0_col0 {\n",
       "  background-color: #52c7ad;\n",
       "  color: #000000;\n",
       "}\n",
       "#T_689eb_row0_col1, #T_689eb_row1_col1, #T_689eb_row2_col0, #T_689eb_row2_col1, #T_689eb_row2_col5, #T_689eb_row2_col9, #T_689eb_row3_col1, #T_689eb_row4_col1, #T_689eb_row4_col7 {\n",
       "  background-color: #0b0405;\n",
       "  color: #f1f1f1;\n",
       "}\n",
       "#T_689eb_row0_col5 {\n",
       "  background-color: #42b9ad;\n",
       "  color: #f1f1f1;\n",
       "}\n",
       "#T_689eb_row0_col7 {\n",
       "  background-color: #37a8ac;\n",
       "  color: #f1f1f1;\n",
       "}\n",
       "#T_689eb_row0_col9, #T_689eb_row1_col0, #T_689eb_row1_col9, #T_689eb_row3_col5, #T_689eb_row3_col7, #T_689eb_row3_col9, #T_689eb_row4_col9 {\n",
       "  background-color: #def5e5;\n",
       "  color: #000000;\n",
       "}\n",
       "#T_689eb_row1_col5 {\n",
       "  background-color: #57cbad;\n",
       "  color: #000000;\n",
       "}\n",
       "#T_689eb_row1_col7 {\n",
       "  background-color: #46bead;\n",
       "  color: #000000;\n",
       "}\n",
       "#T_689eb_row2_col7 {\n",
       "  background-color: #291930;\n",
       "  color: #f1f1f1;\n",
       "}\n",
       "#T_689eb_row3_col0 {\n",
       "  background-color: #62cfac;\n",
       "  color: #000000;\n",
       "}\n",
       "#T_689eb_row4_col0 {\n",
       "  background-color: #9cdeb7;\n",
       "  color: #000000;\n",
       "}\n",
       "#T_689eb_row4_col5 {\n",
       "  background-color: #36274d;\n",
       "  color: #f1f1f1;\n",
       "}\n",
       "</style>\n",
       "<table id=\"T_689eb\">\n",
       "  <thead>\n",
       "    <tr>\n",
       "      <th class=\"blank level0\" >&nbsp;</th>\n",
       "      <th id=\"T_689eb_level0_col0\" class=\"col_heading level0 col0\" >ID</th>\n",
       "      <th id=\"T_689eb_level0_col1\" class=\"col_heading level0 col1\" >work_year</th>\n",
       "      <th id=\"T_689eb_level0_col2\" class=\"col_heading level0 col2\" >experience_level</th>\n",
       "      <th id=\"T_689eb_level0_col3\" class=\"col_heading level0 col3\" >employment_type</th>\n",
       "      <th id=\"T_689eb_level0_col4\" class=\"col_heading level0 col4\" >job_title</th>\n",
       "      <th id=\"T_689eb_level0_col5\" class=\"col_heading level0 col5\" >salary</th>\n",
       "      <th id=\"T_689eb_level0_col6\" class=\"col_heading level0 col6\" >salary_currency</th>\n",
       "      <th id=\"T_689eb_level0_col7\" class=\"col_heading level0 col7\" >salary_in_usd</th>\n",
       "      <th id=\"T_689eb_level0_col8\" class=\"col_heading level0 col8\" >employee_residence</th>\n",
       "      <th id=\"T_689eb_level0_col9\" class=\"col_heading level0 col9\" >remote_ratio</th>\n",
       "      <th id=\"T_689eb_level0_col10\" class=\"col_heading level0 col10\" >company_location</th>\n",
       "      <th id=\"T_689eb_level0_col11\" class=\"col_heading level0 col11\" >company_size</th>\n",
       "    </tr>\n",
       "  </thead>\n",
       "  <tbody>\n",
       "    <tr>\n",
       "      <th id=\"T_689eb_level0_row0\" class=\"row_heading level0 row0\" >0</th>\n",
       "      <td id=\"T_689eb_row0_col0\" class=\"data row0 col0\" >15640</td>\n",
       "      <td id=\"T_689eb_row0_col1\" class=\"data row0 col1\" >2022</td>\n",
       "      <td id=\"T_689eb_row0_col2\" class=\"data row0 col2\" >EX</td>\n",
       "      <td id=\"T_689eb_row0_col3\" class=\"data row0 col3\" >FT</td>\n",
       "      <td id=\"T_689eb_row0_col4\" class=\"data row0 col4\" >Analytics Engineer</td>\n",
       "      <td id=\"T_689eb_row0_col5\" class=\"data row0 col5\" >135000</td>\n",
       "      <td id=\"T_689eb_row0_col6\" class=\"data row0 col6\" >USD</td>\n",
       "      <td id=\"T_689eb_row0_col7\" class=\"data row0 col7\" >135000</td>\n",
       "      <td id=\"T_689eb_row0_col8\" class=\"data row0 col8\" >US</td>\n",
       "      <td id=\"T_689eb_row0_col9\" class=\"data row0 col9\" >100</td>\n",
       "      <td id=\"T_689eb_row0_col10\" class=\"data row0 col10\" >US</td>\n",
       "      <td id=\"T_689eb_row0_col11\" class=\"data row0 col11\" >M</td>\n",
       "    </tr>\n",
       "    <tr>\n",
       "      <th id=\"T_689eb_level0_row1\" class=\"row_heading level0 row1\" >1</th>\n",
       "      <td id=\"T_689eb_row1_col0\" class=\"data row1 col0\" >16852</td>\n",
       "      <td id=\"T_689eb_row1_col1\" class=\"data row1 col1\" >2022</td>\n",
       "      <td id=\"T_689eb_row1_col2\" class=\"data row1 col2\" >SE</td>\n",
       "      <td id=\"T_689eb_row1_col3\" class=\"data row1 col3\" >FT</td>\n",
       "      <td id=\"T_689eb_row1_col4\" class=\"data row1 col4\" >Data Engineer</td>\n",
       "      <td id=\"T_689eb_row1_col5\" class=\"data row1 col5\" >140250</td>\n",
       "      <td id=\"T_689eb_row1_col6\" class=\"data row1 col6\" >USD</td>\n",
       "      <td id=\"T_689eb_row1_col7\" class=\"data row1 col7\" >140250</td>\n",
       "      <td id=\"T_689eb_row1_col8\" class=\"data row1 col8\" >US</td>\n",
       "      <td id=\"T_689eb_row1_col9\" class=\"data row1 col9\" >100</td>\n",
       "      <td id=\"T_689eb_row1_col10\" class=\"data row1 col10\" >US</td>\n",
       "      <td id=\"T_689eb_row1_col11\" class=\"data row1 col11\" >M</td>\n",
       "    </tr>\n",
       "    <tr>\n",
       "      <th id=\"T_689eb_level0_row2\" class=\"row_heading level0 row2\" >2</th>\n",
       "      <td id=\"T_689eb_row2_col0\" class=\"data row2 col0\" >11591</td>\n",
       "      <td id=\"T_689eb_row2_col1\" class=\"data row2 col1\" >2022</td>\n",
       "      <td id=\"T_689eb_row2_col2\" class=\"data row2 col2\" >MI</td>\n",
       "      <td id=\"T_689eb_row2_col3\" class=\"data row2 col3\" >FT</td>\n",
       "      <td id=\"T_689eb_row2_col4\" class=\"data row2 col4\" >Data Engineer</td>\n",
       "      <td id=\"T_689eb_row2_col5\" class=\"data row2 col5\" >75000</td>\n",
       "      <td id=\"T_689eb_row2_col6\" class=\"data row2 col6\" >GBP</td>\n",
       "      <td id=\"T_689eb_row2_col7\" class=\"data row2 col7\" >98158</td>\n",
       "      <td id=\"T_689eb_row2_col8\" class=\"data row2 col8\" >GB</td>\n",
       "      <td id=\"T_689eb_row2_col9\" class=\"data row2 col9\" >0</td>\n",
       "      <td id=\"T_689eb_row2_col10\" class=\"data row2 col10\" >GB</td>\n",
       "      <td id=\"T_689eb_row2_col11\" class=\"data row2 col11\" >M</td>\n",
       "    </tr>\n",
       "    <tr>\n",
       "      <th id=\"T_689eb_level0_row3\" class=\"row_heading level0 row3\" >3</th>\n",
       "      <td id=\"T_689eb_row3_col0\" class=\"data row3 col0\" >15816</td>\n",
       "      <td id=\"T_689eb_row3_col1\" class=\"data row3 col1\" >2022</td>\n",
       "      <td id=\"T_689eb_row3_col2\" class=\"data row3 col2\" >SE</td>\n",
       "      <td id=\"T_689eb_row3_col3\" class=\"data row3 col3\" >FT</td>\n",
       "      <td id=\"T_689eb_row3_col4\" class=\"data row3 col4\" >Data Scientist</td>\n",
       "      <td id=\"T_689eb_row3_col5\" class=\"data row3 col5\" >158200</td>\n",
       "      <td id=\"T_689eb_row3_col6\" class=\"data row3 col6\" >USD</td>\n",
       "      <td id=\"T_689eb_row3_col7\" class=\"data row3 col7\" >158200</td>\n",
       "      <td id=\"T_689eb_row3_col8\" class=\"data row3 col8\" >US</td>\n",
       "      <td id=\"T_689eb_row3_col9\" class=\"data row3 col9\" >100</td>\n",
       "      <td id=\"T_689eb_row3_col10\" class=\"data row3 col10\" >US</td>\n",
       "      <td id=\"T_689eb_row3_col11\" class=\"data row3 col11\" >L</td>\n",
       "    </tr>\n",
       "    <tr>\n",
       "      <th id=\"T_689eb_level0_row4\" class=\"row_heading level0 row4\" >4</th>\n",
       "      <td id=\"T_689eb_row4_col0\" class=\"data row4 col0\" >16233</td>\n",
       "      <td id=\"T_689eb_row4_col1\" class=\"data row4 col1\" >2022</td>\n",
       "      <td id=\"T_689eb_row4_col2\" class=\"data row4 col2\" >SE</td>\n",
       "      <td id=\"T_689eb_row4_col3\" class=\"data row4 col3\" >FT</td>\n",
       "      <td id=\"T_689eb_row4_col4\" class=\"data row4 col4\" >Data Analyst</td>\n",
       "      <td id=\"T_689eb_row4_col5\" class=\"data row4 col5\" >90320</td>\n",
       "      <td id=\"T_689eb_row4_col6\" class=\"data row4 col6\" >USD</td>\n",
       "      <td id=\"T_689eb_row4_col7\" class=\"data row4 col7\" >90320</td>\n",
       "      <td id=\"T_689eb_row4_col8\" class=\"data row4 col8\" >US</td>\n",
       "      <td id=\"T_689eb_row4_col9\" class=\"data row4 col9\" >100</td>\n",
       "      <td id=\"T_689eb_row4_col10\" class=\"data row4 col10\" >US</td>\n",
       "      <td id=\"T_689eb_row4_col11\" class=\"data row4 col11\" >M</td>\n",
       "    </tr>\n",
       "  </tbody>\n",
       "</table>\n"
      ],
      "text/plain": [
       "<pandas.io.formats.style.Styler at 0x17b5aa30b60>"
      ]
     },
     "execution_count": 7,
     "metadata": {},
     "output_type": "execute_result"
    }
   ],
   "source": [
    "# Merge tables using inner join on ID\n",
    "merged_data = pd.merge(tabel1, tabel2, on='ID', how='inner') #function pd.merge()\n",
    "\n",
    "# Display merged data\n",
    "merged_data.head().style.background_gradient(cmap='mako')\n"
   ]
  },
  {
   "cell_type": "markdown",
   "metadata": {},
   "source": [
    "### No.3 \n",
    "Merger Data tabel1 dan tabel2"
   ]
  },
  {
   "cell_type": "code",
   "execution_count": 8,
   "metadata": {},
   "outputs": [
    {
     "name": "stdout",
     "output_type": "stream",
     "text": [
      "        ID  work_year experience_level employment_type       job_title  \\\n",
      "3    15816       2022               SE              FT  Data Scientist   \n",
      "6    19190       2022               SE              FT  Data Scientist   \n",
      "14   15148       2022               MI              FT  Data Scientist   \n",
      "16   16160       2021               SE              FT  Data Scientist   \n",
      "18   18962       2020               MI              FT  Data Scientist   \n",
      "20   15820       2022               MI              FT  Data Scientist   \n",
      "22   13297       2022               SE              FT  Data Scientist   \n",
      "27   15840       2022               SE              FT  Data Scientist   \n",
      "29   18490       2022               SE              FT  Data Scientist   \n",
      "30   12403       2020               SE              FT  Data Scientist   \n",
      "31   15997       2022               SE              FT  Data Scientist   \n",
      "33   15471       2021               EN              FT  Data Scientist   \n",
      "38   15915       2021               MI              FT  Data Scientist   \n",
      "39   11789       2022               SE              FT  Data Scientist   \n",
      "40   17167       2020               MI              FT  Data Scientist   \n",
      "46   16189       2020               EN              FT  Data Scientist   \n",
      "47   11782       2022               MI              FT  Data Scientist   \n",
      "48   13382       2022               SE              FT  Data Scientist   \n",
      "53   17620       2022               SE              FT  Data Scientist   \n",
      "54   12711       2022               SE              FT  Data Scientist   \n",
      "57   12691       2021               MI              FT  Data Scientist   \n",
      "60   11614       2022               SE              FT  Data Scientist   \n",
      "65   17331       2021               EN              FT  Data Scientist   \n",
      "67   15571       2022               SE              FT  Data Scientist   \n",
      "74   16292       2022               SE              FT  Data Scientist   \n",
      "75   11409       2020               EN              FT  Data Scientist   \n",
      "86   17091       2022               MI              FT  Data Scientist   \n",
      "87   14121       2022               SE              FT  Data Scientist   \n",
      "88   11299       2021               SE              FT  Data Scientist   \n",
      "92   15707       2021               MI              FT  Data Scientist   \n",
      "93   10272       2021               MI              FT  Data Scientist   \n",
      "99   10070       2022               SE              FT  Data Scientist   \n",
      "108  17904       2022               SE              FT  Data Scientist   \n",
      "110  17313       2022               MI              FT  Data Scientist   \n",
      "125  17396       2022               SE              FT  Data Scientist   \n",
      "129  10733       2021               MI              FT  Data Scientist   \n",
      "\n",
      "       salary salary_currency  salary_in_usd employee_residence  remote_ratio  \\\n",
      "3      158200             USD         158200                 US           100   \n",
      "6      180000             USD         180000                 US           100   \n",
      "14     160000             USD         160000                 US           100   \n",
      "16     110000             CAD          87738                 CA           100   \n",
      "18   11000000             HUF          35735                 HU            50   \n",
      "20      48000             USD          48000                 RU           100   \n",
      "22     123000             USD         123000                 US           100   \n",
      "27     144000             USD         144000                 US           100   \n",
      "29     140400             USD         140400                 US             0   \n",
      "30     412000             USD         412000                 US           100   \n",
      "31     150000             USD         150000                 US             0   \n",
      "33      58000             USD          58000                 US            50   \n",
      "38      69600             BRL          12901                 BR             0   \n",
      "39     176000             USD         176000                 US           100   \n",
      "40     118000             USD         118000                 US           100   \n",
      "46      55000             EUR          62726                 DE            50   \n",
      "47     141300             USD         141300                 US             0   \n",
      "48     165000             USD         165000                 US           100   \n",
      "53     123000             USD         123000                 US           100   \n",
      "54     140000             USD         140000                 US           100   \n",
      "57     420000             INR           5679                 IN           100   \n",
      "60     136620             USD         136620                 US           100   \n",
      "65      80000             USD          80000                 US           100   \n",
      "67     140400             USD         140400                 US             0   \n",
      "74     120000             USD         120000                 US             0   \n",
      "75     105000             USD         105000                 US           100   \n",
      "86      78000             USD          78000                 US           100   \n",
      "87     140000             USD         140000                 US           100   \n",
      "88     130000             CAD         103691                 CA           100   \n",
      "92      82500             USD          82500                 US           100   \n",
      "93     109000             USD         109000                 US            50   \n",
      "99     210000             USD         210000                 US           100   \n",
      "108    170000             USD         170000                 US           100   \n",
      "110    135000             USD         135000                 US           100   \n",
      "125    230000             USD         230000                 US           100   \n",
      "129    700000             INR           9466                 IN             0   \n",
      "\n",
      "    company_location company_size  \n",
      "3                 US            L  \n",
      "6                 US            M  \n",
      "14                US            M  \n",
      "16                CA            S  \n",
      "18                HU            L  \n",
      "20                US            S  \n",
      "22                US            M  \n",
      "27                US            M  \n",
      "29                US            M  \n",
      "30                US            L  \n",
      "31                US            M  \n",
      "33                US            L  \n",
      "38                BR            S  \n",
      "39                US            M  \n",
      "40                US            M  \n",
      "46                DE            S  \n",
      "47                US            M  \n",
      "48                US            M  \n",
      "53                US            M  \n",
      "54                US            M  \n",
      "57                US            S  \n",
      "60                US            M  \n",
      "65                US            M  \n",
      "67                US            L  \n",
      "74                US            L  \n",
      "75                US            S  \n",
      "86                US            M  \n",
      "87                US            M  \n",
      "88                CA            L  \n",
      "92                US            S  \n",
      "93                US            L  \n",
      "99                US            M  \n",
      "108               US            M  \n",
      "110               US            L  \n",
      "125               US            M  \n",
      "129               IN            S  \n"
     ]
    }
   ],
   "source": [
    "# Filter data for Data Scientist job titles\n",
    "data_scientist_data = merged_data[merged_data['job_title'] == 'Data Scientist']\n",
    "\n",
    "print(data_scientist_data)\n"
   ]
  },
  {
   "cell_type": "markdown",
   "metadata": {},
   "source": [
    "# No. 4\n",
    "tampilkan sisa baris setelah dimerger"
   ]
  },
  {
   "cell_type": "code",
   "execution_count": 9,
   "metadata": {},
   "outputs": [
    {
     "name": "stdout",
     "output_type": "stream",
     "text": [
      "Index(['ID', 'work_year', 'experience_level', 'employment_type', 'job_title',\n",
      "       'salary', 'salary_currency', 'salary_in_usd', 'employee_residence',\n",
      "       'remote_ratio', 'company_location', 'company_size'],\n",
      "      dtype='object')\n"
     ]
    }
   ],
   "source": [
    "print (merged_data.columns)"
   ]
  },
  {
   "cell_type": "markdown",
   "metadata": {},
   "source": [
    "### No. 5\n",
    "pendapatan data analyst"
   ]
  },
  {
   "cell_type": "code",
   "execution_count": 10,
   "metadata": {},
   "outputs": [
    {
     "data": {
      "text/html": [
       "<div>\n",
       "<style scoped>\n",
       "    .dataframe tbody tr th:only-of-type {\n",
       "        vertical-align: middle;\n",
       "    }\n",
       "\n",
       "    .dataframe tbody tr th {\n",
       "        vertical-align: top;\n",
       "    }\n",
       "\n",
       "    .dataframe thead th {\n",
       "        text-align: right;\n",
       "    }\n",
       "</style>\n",
       "<table border=\"1\" class=\"dataframe\">\n",
       "  <thead>\n",
       "    <tr style=\"text-align: right;\">\n",
       "      <th></th>\n",
       "      <th>work_year</th>\n",
       "      <th>salary_in_usd</th>\n",
       "    </tr>\n",
       "  </thead>\n",
       "  <tbody>\n",
       "    <tr>\n",
       "      <th>0</th>\n",
       "      <td>2020</td>\n",
       "      <td>146692.200000</td>\n",
       "    </tr>\n",
       "    <tr>\n",
       "      <th>1</th>\n",
       "      <td>2021</td>\n",
       "      <td>60997.222222</td>\n",
       "    </tr>\n",
       "    <tr>\n",
       "      <th>2</th>\n",
       "      <td>2022</td>\n",
       "      <td>145860.000000</td>\n",
       "    </tr>\n",
       "  </tbody>\n",
       "</table>\n",
       "</div>"
      ],
      "text/plain": [
       "   work_year  salary_in_usd\n",
       "0       2020  146692.200000\n",
       "1       2021   60997.222222\n",
       "2       2022  145860.000000"
      ]
     },
     "execution_count": 10,
     "metadata": {},
     "output_type": "execute_result"
    }
   ],
   "source": [
    "data_scientist_salary = data_scientist_data.groupby('work_year')['salary_in_usd'].mean().reset_index()\n",
    "data_scientist_salary"
   ]
  },
  {
   "cell_type": "code",
   "execution_count": 11,
   "metadata": {},
   "outputs": [
    {
     "data": {
      "image/png": "[encoded data removed]",
      "text/plain": [
       "<Figure size 500x700 with 1 Axes>"
      ]
     },
     "metadata": {},
     "output_type": "display_data"
    }
   ],
   "source": [
    "# Create bar plot\n",
    "plt.figure(figsize=(5, 7))\n",
    "plt.plot(data_scientist_salary['work_year'], data_scientist_salary['salary_in_usd'], marker='o',color='skyblue')\n",
    "plt.xlabel('Work Year Experience')\n",
    "plt.ylabel('Salary in USD')\n",
    "plt.title('Salary in USD for Data Scientists')\n",
    "plt.xticks(rotation=45)\n",
    "plt.xticks(data_scientist_salary['work_year'])\n",
    "plt.show()"
   ]
  },
  {
   "cell_type": "markdown",
   "metadata": {},
   "source": [
    "### No. 6\n",
    "Bar explanation\n",
    "<br>\n",
    "<br>\n",
    "Pada bar tersebut terlihat bahwa pendapatan dalam dolar untuk pekerjaan data analyst tergolong sangat tinggi, tetapi pada tahun 2020 menuju 2021 mengalami penurunan hal ini dapat terjadi karena mengingat pada tahun tersebut ekonomi duniapun sedang sangat memburuk sehubungan dengan mewabahnya covid-19, namun demikian hal tersebut kembali normal ketika wabah mereda yang dapat terlihat pada transisi dari tahun 2021-2022."
   ]
  },
  {
   "cell_type": "markdown",
   "metadata": {},
   "source": [
    "### No. 7\n",
    "uji hipotesis dengan alpha = 0.05"
   ]
  },
  {
   "cell_type": "code",
   "execution_count": 12,
   "metadata": {},
   "outputs": [
    {
     "name": "stdout",
     "output_type": "stream",
     "text": [
      "T-statistic: -1.5838193377053795\n",
      "P-value: 0.12039694890238588\n",
      "Fail to reject the null hypothesis. There is no significant difference between salaries in USD based on the groups of Data Analyst and Data Engineer.\n"
     ]
    }
   ],
   "source": [
    "# Filter data for Data Analyst and Data Engineer job titles\n",
    "data_analyst_salaries = merged_data[merged_data['job_title'] == 'Data Analyst']['salary_in_usd']\n",
    "data_engineer_salaries = merged_data[merged_data['job_title'] == 'Data Engineer']['salary_in_usd']\n",
    "\n",
    "# Perform two-sample t-test\n",
    "t_stat, p_value = stats.ttest_ind(data_analyst_salaries, data_engineer_salaries, equal_var=True)\n",
    "\n",
    "# Define significance level\n",
    "alpha = 0.05\n",
    "\n",
    "# Print results\n",
    "print(f\"T-statistic: {t_stat}\")\n",
    "print(f\"P-value: {p_value}\")\n",
    "\n",
    "if p_value < alpha:\n",
    "    print(\"Reject the null hypothesis. There is a significant difference between salaries in USD based on the groups of Data Analyst and Data Engineer.\")\n",
    "else:\n",
    "    print(\"Fail to reject the null hypothesis. There is no significant difference between salaries in USD based on the groups of Data Analyst and Data Engineer.\")\n"
   ]
  },
  {
   "cell_type": "markdown",
   "metadata": {},
   "source": [
    "### No. 8 \n",
    "hubungan antara salary_in_usd dengan remote menggunakan statistika deskriptif"
   ]
  },
  {
   "cell_type": "code",
   "execution_count": 13,
   "metadata": {},
   "outputs": [
    {
     "name": "stdout",
     "output_type": "stream",
     "text": [
      "Correlation coefficient: 0.2667910893806637\n"
     ]
    },
    {
     "data": {
      "image/png": "[encoded data removed]",
      "text/plain": [
       "<Figure size 800x600 with 1 Axes>"
      ]
     },
     "metadata": {},
     "output_type": "display_data"
    }
   ],
   "source": [
    "# Filter data for Data Scientist job titles\n",
    "data_scientist_data = merged_data[merged_data['job_title'] == 'Data Scientist']\n",
    "\n",
    "# Calculate correlation coefficient\n",
    "correlation_coefficient = np.corrcoef(data_scientist_data['salary_in_usd'], data_scientist_data['remote_ratio'])[0, 1]\n",
    "\n",
    "# Print correlation coefficient\n",
    "print(\"Correlation coefficient:\", correlation_coefficient)\n",
    "\n",
    "# Create scatter plot\n",
    "plt.figure(figsize=(8, 6))\n",
    "plt.scatter(data_scientist_data['remote_ratio'], data_scientist_data['salary_in_usd'], color='blue', alpha=0.5)\n",
    "plt.title('Relationship between Salary in USD and Remote Ratio for Data Scientists')\n",
    "plt.xlabel('Remote Ratio')\n",
    "plt.ylabel('Salary in USD')\n",
    "plt.grid(True)\n",
    "plt.show()\n"
   ]
  },
  {
   "cell_type": "markdown",
   "metadata": {},
   "source": [
    "pada scatter plot membentuk garis lurus pada posisi masing-masing menunjukan bahwasannya korelasi antara remote_ratio dengan salary_in_usd adalah rendah, bila korelasi kuat maka seharusnya plot membentuk sebuah grafik lurus diagonal\n",
    "\n",
    "nilai koefisien yang terbentuk adalah mendekati 0 dimana memiliki arti bahwasannya antara remote_ratio dengan salary_in_usd tidak memiliki korelasi. <b>(mendekati 1 = positif (X Y pergerakan searah) | 0 = Tidak ada relasi | mendekati -1 = negative (X Y pergerakan berlawanan arah))."
   ]
  },
  {
   "cell_type": "markdown",
   "metadata": {},
   "source": [
    "### No. 9\n",
    "Uji hipotsesi satu sampel"
   ]
  },
  {
   "cell_type": "code",
   "execution_count": 14,
   "metadata": {},
   "outputs": [
    {
     "name": "stdout",
     "output_type": "stream",
     "text": [
      "T-statistic: -1.3784061987320522\n",
      "P-value: 0.18258713620824657\n",
      "Fail to reject the null hypothesis. The average salary_in_usd for Data Analysts is not greater than $100,000.\n"
     ]
    }
   ],
   "source": [
    "# Filter data for Data Analyst job titles\n",
    "data_analyst_salaries = merged_data[merged_data['job_title'] == 'Data Analyst']['salary_in_usd']\n",
    "\n",
    "# Define null hypothesis (H0): average salary_in_usd for Data Analysts <= $100,000\n",
    "# Define alternative hypothesis (H1): average salary_in_usd for Data Analysts > $100,000\n",
    "\n",
    "# Perform one-sample t-test\n",
    "t_stat, p_value = stats.ttest_1samp(data_analyst_salaries, popmean=100000)\n",
    "\n",
    "# Define significance level\n",
    "alpha = 0.05\n",
    "\n",
    "# Print results\n",
    "print(f\"T-statistic: {t_stat}\")\n",
    "print(f\"P-value: {p_value}\")\n",
    "\n",
    "if p_value < alpha:\n",
    "    print(\"Reject the null hypothesis. The average salary_in_usd for Data Analysts is greater than $100,000.\")\n",
    "else:\n",
    "    print(\"Fail to reject the null hypothesis. The average salary_in_usd for Data Analysts is not greater than $100,000.\")\n"
   ]
  },
  {
   "cell_type": "markdown",
   "metadata": {},
   "source": [
    "## Conclusion\n",
    "Data menunjukan bahwa pendapat berdasarkan dollar yang di dapat oleh data analyst masih tergolong tinggi dengan data tertinggi yaitu pada angka $412.000 USD mengalahkan kebanyakan pekerjaan lain bahkan machine learning dengan harga tertinggi di angka $276.000 USD. Walaupun average dari pendapatan data scientist masih di bawah $100.000 USD namun pekerjaan ini masih sangat layak untuk diidamkan bila ingin mencari pekerjaan dengan pendapatan tinggi."
   ]
  }
 ],
 "metadata": {
  "kernelspec": {
   "display_name": "Python 3",
   "language": "python",
   "name": "python3"
  },
  "language_info": {
   "codemirror_mode": {
    "name": "ipython",
    "version": 3
   },
   "file_extension": ".py",
   "mimetype": "text/x-python",
   "name": "python",
   "nbconvert_exporter": "python",
   "pygments_lexer": "ipython3",
   "version": "3.12.0"
  }
 },
 "nbformat": 4,
 "nbformat_minor": 2
}
